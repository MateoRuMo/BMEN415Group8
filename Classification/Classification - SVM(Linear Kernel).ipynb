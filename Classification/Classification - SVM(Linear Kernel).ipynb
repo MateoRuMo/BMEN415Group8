{
 "cells": [
  {
   "cell_type": "markdown",
   "metadata": {},
   "source": [
    "# **BMEN 415 - Final Project**\n",
    "**Classification Model 2: Support Vector Machines (Kernel = Linear)**"
   ]
  },
  {
   "cell_type": "markdown",
   "metadata": {},
   "source": [
    "### **Data Preprocessing, Model Creation & Training the Model**"
   ]
  },
  {
   "cell_type": "markdown",
   "metadata": {},
   "source": [
    "#### Importing Libraries"
   ]
  },
  {
   "cell_type": "code",
   "execution_count": 40,
   "metadata": {},
   "outputs": [],
   "source": [
    "import numpy as np\n",
    "import matplotlib.pyplot as plt\n",
    "import pandas as pd"
   ]
  },
  {
   "cell_type": "markdown",
   "metadata": {},
   "source": [
    "#### Importing Training Dataset"
   ]
  },
  {
   "cell_type": "code",
   "execution_count": 41,
   "metadata": {},
   "outputs": [
    {
     "data": {
      "text/html": [
       "<div>\n",
       "<style scoped>\n",
       "    .dataframe tbody tr th:only-of-type {\n",
       "        vertical-align: middle;\n",
       "    }\n",
       "\n",
       "    .dataframe tbody tr th {\n",
       "        vertical-align: top;\n",
       "    }\n",
       "\n",
       "    .dataframe thead th {\n",
       "        text-align: right;\n",
       "    }\n",
       "</style>\n",
       "<table border=\"1\" class=\"dataframe\">\n",
       "  <thead>\n",
       "    <tr style=\"text-align: right;\">\n",
       "      <th></th>\n",
       "      <th>diagnosis</th>\n",
       "      <th>radius_mean</th>\n",
       "      <th>texture_mean</th>\n",
       "      <th>perimeter_mean</th>\n",
       "      <th>area_mean</th>\n",
       "      <th>smoothness_mean</th>\n",
       "      <th>compactness_mean</th>\n",
       "      <th>concavity_mean</th>\n",
       "      <th>concave points_mean</th>\n",
       "      <th>symmetry_mean</th>\n",
       "      <th>...</th>\n",
       "      <th>radius_worst</th>\n",
       "      <th>texture_worst</th>\n",
       "      <th>perimeter_worst</th>\n",
       "      <th>area_worst</th>\n",
       "      <th>smoothness_worst</th>\n",
       "      <th>compactness_worst</th>\n",
       "      <th>concavity_worst</th>\n",
       "      <th>concave points_worst</th>\n",
       "      <th>symmetry_worst</th>\n",
       "      <th>fractal_dimension_worst</th>\n",
       "    </tr>\n",
       "  </thead>\n",
       "  <tbody>\n",
       "    <tr>\n",
       "      <th>0</th>\n",
       "      <td>B</td>\n",
       "      <td>14.47</td>\n",
       "      <td>24.99</td>\n",
       "      <td>95.81</td>\n",
       "      <td>656.4</td>\n",
       "      <td>0.08837</td>\n",
       "      <td>0.12300</td>\n",
       "      <td>0.100900</td>\n",
       "      <td>0.038900</td>\n",
       "      <td>0.1872</td>\n",
       "      <td>...</td>\n",
       "      <td>16.22</td>\n",
       "      <td>31.73</td>\n",
       "      <td>113.50</td>\n",
       "      <td>808.9</td>\n",
       "      <td>0.13400</td>\n",
       "      <td>0.4202</td>\n",
       "      <td>0.40400</td>\n",
       "      <td>0.12050</td>\n",
       "      <td>0.3187</td>\n",
       "      <td>0.10230</td>\n",
       "    </tr>\n",
       "    <tr>\n",
       "      <th>1</th>\n",
       "      <td>B</td>\n",
       "      <td>11.87</td>\n",
       "      <td>21.54</td>\n",
       "      <td>76.83</td>\n",
       "      <td>432.0</td>\n",
       "      <td>0.06613</td>\n",
       "      <td>0.10640</td>\n",
       "      <td>0.087770</td>\n",
       "      <td>0.023860</td>\n",
       "      <td>0.1349</td>\n",
       "      <td>...</td>\n",
       "      <td>12.79</td>\n",
       "      <td>28.18</td>\n",
       "      <td>83.51</td>\n",
       "      <td>507.2</td>\n",
       "      <td>0.09457</td>\n",
       "      <td>0.3399</td>\n",
       "      <td>0.32180</td>\n",
       "      <td>0.08750</td>\n",
       "      <td>0.2305</td>\n",
       "      <td>0.09952</td>\n",
       "    </tr>\n",
       "    <tr>\n",
       "      <th>2</th>\n",
       "      <td>M</td>\n",
       "      <td>16.27</td>\n",
       "      <td>20.71</td>\n",
       "      <td>106.90</td>\n",
       "      <td>813.7</td>\n",
       "      <td>0.11690</td>\n",
       "      <td>0.13190</td>\n",
       "      <td>0.147800</td>\n",
       "      <td>0.084880</td>\n",
       "      <td>0.1948</td>\n",
       "      <td>...</td>\n",
       "      <td>19.28</td>\n",
       "      <td>30.38</td>\n",
       "      <td>129.80</td>\n",
       "      <td>1121.0</td>\n",
       "      <td>0.15900</td>\n",
       "      <td>0.2947</td>\n",
       "      <td>0.35970</td>\n",
       "      <td>0.15830</td>\n",
       "      <td>0.3103</td>\n",
       "      <td>0.08200</td>\n",
       "    </tr>\n",
       "    <tr>\n",
       "      <th>3</th>\n",
       "      <td>M</td>\n",
       "      <td>19.16</td>\n",
       "      <td>26.60</td>\n",
       "      <td>126.20</td>\n",
       "      <td>1138.0</td>\n",
       "      <td>0.10200</td>\n",
       "      <td>0.14530</td>\n",
       "      <td>0.192100</td>\n",
       "      <td>0.096640</td>\n",
       "      <td>0.1902</td>\n",
       "      <td>...</td>\n",
       "      <td>23.72</td>\n",
       "      <td>35.90</td>\n",
       "      <td>159.80</td>\n",
       "      <td>1724.0</td>\n",
       "      <td>0.17820</td>\n",
       "      <td>0.3841</td>\n",
       "      <td>0.57540</td>\n",
       "      <td>0.18720</td>\n",
       "      <td>0.3258</td>\n",
       "      <td>0.09720</td>\n",
       "    </tr>\n",
       "    <tr>\n",
       "      <th>4</th>\n",
       "      <td>M</td>\n",
       "      <td>15.46</td>\n",
       "      <td>19.48</td>\n",
       "      <td>101.70</td>\n",
       "      <td>748.9</td>\n",
       "      <td>0.10920</td>\n",
       "      <td>0.12230</td>\n",
       "      <td>0.146600</td>\n",
       "      <td>0.080870</td>\n",
       "      <td>0.1931</td>\n",
       "      <td>...</td>\n",
       "      <td>19.26</td>\n",
       "      <td>26.00</td>\n",
       "      <td>124.90</td>\n",
       "      <td>1156.0</td>\n",
       "      <td>0.15460</td>\n",
       "      <td>0.2394</td>\n",
       "      <td>0.37910</td>\n",
       "      <td>0.15140</td>\n",
       "      <td>0.2837</td>\n",
       "      <td>0.08019</td>\n",
       "    </tr>\n",
       "    <tr>\n",
       "      <th>...</th>\n",
       "      <td>...</td>\n",
       "      <td>...</td>\n",
       "      <td>...</td>\n",
       "      <td>...</td>\n",
       "      <td>...</td>\n",
       "      <td>...</td>\n",
       "      <td>...</td>\n",
       "      <td>...</td>\n",
       "      <td>...</td>\n",
       "      <td>...</td>\n",
       "      <td>...</td>\n",
       "      <td>...</td>\n",
       "      <td>...</td>\n",
       "      <td>...</td>\n",
       "      <td>...</td>\n",
       "      <td>...</td>\n",
       "      <td>...</td>\n",
       "      <td>...</td>\n",
       "      <td>...</td>\n",
       "      <td>...</td>\n",
       "      <td>...</td>\n",
       "    </tr>\n",
       "    <tr>\n",
       "      <th>450</th>\n",
       "      <td>B</td>\n",
       "      <td>10.60</td>\n",
       "      <td>18.95</td>\n",
       "      <td>69.28</td>\n",
       "      <td>346.4</td>\n",
       "      <td>0.09688</td>\n",
       "      <td>0.11470</td>\n",
       "      <td>0.063870</td>\n",
       "      <td>0.026420</td>\n",
       "      <td>0.1922</td>\n",
       "      <td>...</td>\n",
       "      <td>11.88</td>\n",
       "      <td>22.94</td>\n",
       "      <td>78.28</td>\n",
       "      <td>424.8</td>\n",
       "      <td>0.12130</td>\n",
       "      <td>0.2515</td>\n",
       "      <td>0.19160</td>\n",
       "      <td>0.07926</td>\n",
       "      <td>0.2940</td>\n",
       "      <td>0.07587</td>\n",
       "    </tr>\n",
       "    <tr>\n",
       "      <th>451</th>\n",
       "      <td>B</td>\n",
       "      <td>13.15</td>\n",
       "      <td>15.34</td>\n",
       "      <td>85.31</td>\n",
       "      <td>538.9</td>\n",
       "      <td>0.09384</td>\n",
       "      <td>0.08498</td>\n",
       "      <td>0.092930</td>\n",
       "      <td>0.034830</td>\n",
       "      <td>0.1822</td>\n",
       "      <td>...</td>\n",
       "      <td>14.77</td>\n",
       "      <td>20.50</td>\n",
       "      <td>97.67</td>\n",
       "      <td>677.3</td>\n",
       "      <td>0.14780</td>\n",
       "      <td>0.2256</td>\n",
       "      <td>0.30090</td>\n",
       "      <td>0.09722</td>\n",
       "      <td>0.3849</td>\n",
       "      <td>0.08633</td>\n",
       "    </tr>\n",
       "    <tr>\n",
       "      <th>452</th>\n",
       "      <td>B</td>\n",
       "      <td>10.08</td>\n",
       "      <td>15.11</td>\n",
       "      <td>63.76</td>\n",
       "      <td>317.5</td>\n",
       "      <td>0.09267</td>\n",
       "      <td>0.04695</td>\n",
       "      <td>0.001597</td>\n",
       "      <td>0.002404</td>\n",
       "      <td>0.1703</td>\n",
       "      <td>...</td>\n",
       "      <td>11.87</td>\n",
       "      <td>21.18</td>\n",
       "      <td>75.39</td>\n",
       "      <td>437.0</td>\n",
       "      <td>0.15210</td>\n",
       "      <td>0.1019</td>\n",
       "      <td>0.00692</td>\n",
       "      <td>0.01042</td>\n",
       "      <td>0.2933</td>\n",
       "      <td>0.07697</td>\n",
       "    </tr>\n",
       "    <tr>\n",
       "      <th>453</th>\n",
       "      <td>B</td>\n",
       "      <td>10.26</td>\n",
       "      <td>12.22</td>\n",
       "      <td>65.75</td>\n",
       "      <td>321.6</td>\n",
       "      <td>0.09996</td>\n",
       "      <td>0.07542</td>\n",
       "      <td>0.019230</td>\n",
       "      <td>0.019680</td>\n",
       "      <td>0.1800</td>\n",
       "      <td>...</td>\n",
       "      <td>11.38</td>\n",
       "      <td>15.65</td>\n",
       "      <td>73.23</td>\n",
       "      <td>394.5</td>\n",
       "      <td>0.13430</td>\n",
       "      <td>0.1650</td>\n",
       "      <td>0.08615</td>\n",
       "      <td>0.06696</td>\n",
       "      <td>0.2937</td>\n",
       "      <td>0.07722</td>\n",
       "    </tr>\n",
       "    <tr>\n",
       "      <th>454</th>\n",
       "      <td>M</td>\n",
       "      <td>17.20</td>\n",
       "      <td>24.52</td>\n",
       "      <td>114.20</td>\n",
       "      <td>929.4</td>\n",
       "      <td>0.10710</td>\n",
       "      <td>0.18300</td>\n",
       "      <td>0.169200</td>\n",
       "      <td>0.079440</td>\n",
       "      <td>0.1927</td>\n",
       "      <td>...</td>\n",
       "      <td>23.32</td>\n",
       "      <td>33.82</td>\n",
       "      <td>151.60</td>\n",
       "      <td>1681.0</td>\n",
       "      <td>0.15850</td>\n",
       "      <td>0.7394</td>\n",
       "      <td>0.65660</td>\n",
       "      <td>0.18990</td>\n",
       "      <td>0.3313</td>\n",
       "      <td>0.13390</td>\n",
       "    </tr>\n",
       "  </tbody>\n",
       "</table>\n",
       "<p>455 rows × 31 columns</p>\n",
       "</div>"
      ],
      "text/plain": [
       "    diagnosis  radius_mean  texture_mean  perimeter_mean  area_mean  \\\n",
       "0           B        14.47         24.99           95.81      656.4   \n",
       "1           B        11.87         21.54           76.83      432.0   \n",
       "2           M        16.27         20.71          106.90      813.7   \n",
       "3           M        19.16         26.60          126.20     1138.0   \n",
       "4           M        15.46         19.48          101.70      748.9   \n",
       "..        ...          ...           ...             ...        ...   \n",
       "450         B        10.60         18.95           69.28      346.4   \n",
       "451         B        13.15         15.34           85.31      538.9   \n",
       "452         B        10.08         15.11           63.76      317.5   \n",
       "453         B        10.26         12.22           65.75      321.6   \n",
       "454         M        17.20         24.52          114.20      929.4   \n",
       "\n",
       "     smoothness_mean  compactness_mean  concavity_mean  concave points_mean  \\\n",
       "0            0.08837           0.12300        0.100900             0.038900   \n",
       "1            0.06613           0.10640        0.087770             0.023860   \n",
       "2            0.11690           0.13190        0.147800             0.084880   \n",
       "3            0.10200           0.14530        0.192100             0.096640   \n",
       "4            0.10920           0.12230        0.146600             0.080870   \n",
       "..               ...               ...             ...                  ...   \n",
       "450          0.09688           0.11470        0.063870             0.026420   \n",
       "451          0.09384           0.08498        0.092930             0.034830   \n",
       "452          0.09267           0.04695        0.001597             0.002404   \n",
       "453          0.09996           0.07542        0.019230             0.019680   \n",
       "454          0.10710           0.18300        0.169200             0.079440   \n",
       "\n",
       "     symmetry_mean  ...  radius_worst  texture_worst  perimeter_worst  \\\n",
       "0           0.1872  ...         16.22          31.73           113.50   \n",
       "1           0.1349  ...         12.79          28.18            83.51   \n",
       "2           0.1948  ...         19.28          30.38           129.80   \n",
       "3           0.1902  ...         23.72          35.90           159.80   \n",
       "4           0.1931  ...         19.26          26.00           124.90   \n",
       "..             ...  ...           ...            ...              ...   \n",
       "450         0.1922  ...         11.88          22.94            78.28   \n",
       "451         0.1822  ...         14.77          20.50            97.67   \n",
       "452         0.1703  ...         11.87          21.18            75.39   \n",
       "453         0.1800  ...         11.38          15.65            73.23   \n",
       "454         0.1927  ...         23.32          33.82           151.60   \n",
       "\n",
       "     area_worst  smoothness_worst  compactness_worst  concavity_worst  \\\n",
       "0         808.9           0.13400             0.4202          0.40400   \n",
       "1         507.2           0.09457             0.3399          0.32180   \n",
       "2        1121.0           0.15900             0.2947          0.35970   \n",
       "3        1724.0           0.17820             0.3841          0.57540   \n",
       "4        1156.0           0.15460             0.2394          0.37910   \n",
       "..          ...               ...                ...              ...   \n",
       "450       424.8           0.12130             0.2515          0.19160   \n",
       "451       677.3           0.14780             0.2256          0.30090   \n",
       "452       437.0           0.15210             0.1019          0.00692   \n",
       "453       394.5           0.13430             0.1650          0.08615   \n",
       "454      1681.0           0.15850             0.7394          0.65660   \n",
       "\n",
       "     concave points_worst  symmetry_worst  fractal_dimension_worst  \n",
       "0                 0.12050          0.3187                  0.10230  \n",
       "1                 0.08750          0.2305                  0.09952  \n",
       "2                 0.15830          0.3103                  0.08200  \n",
       "3                 0.18720          0.3258                  0.09720  \n",
       "4                 0.15140          0.2837                  0.08019  \n",
       "..                    ...             ...                      ...  \n",
       "450               0.07926          0.2940                  0.07587  \n",
       "451               0.09722          0.3849                  0.08633  \n",
       "452               0.01042          0.2933                  0.07697  \n",
       "453               0.06696          0.2937                  0.07722  \n",
       "454               0.18990          0.3313                  0.13390  \n",
       "\n",
       "[455 rows x 31 columns]"
      ]
     },
     "execution_count": 41,
     "metadata": {},
     "output_type": "execute_result"
    }
   ],
   "source": [
    "df_train = pd.read_csv('Classification - Training.csv')\n",
    "df_train = df_train.drop(df_train.columns[0:2], axis = 1)\n",
    "df_train"
   ]
  },
  {
   "cell_type": "markdown",
   "metadata": {},
   "source": [
    "#### Checking for any Missing Values in the Dataset"
   ]
  },
  {
   "cell_type": "code",
   "execution_count": 42,
   "metadata": {},
   "outputs": [
    {
     "data": {
      "text/plain": [
       "diagnosis                  0\n",
       "radius_mean                0\n",
       "texture_mean               0\n",
       "perimeter_mean             0\n",
       "area_mean                  0\n",
       "smoothness_mean            0\n",
       "compactness_mean           0\n",
       "concavity_mean             0\n",
       "concave points_mean        0\n",
       "symmetry_mean              0\n",
       "fractal_dimension_mean     0\n",
       "radius_se                  0\n",
       "texture_se                 0\n",
       "perimeter_se               0\n",
       "area_se                    0\n",
       "smoothness_se              0\n",
       "compactness_se             0\n",
       "concavity_se               0\n",
       "concave points_se          0\n",
       "symmetry_se                0\n",
       "fractal_dimension_se       0\n",
       "radius_worst               0\n",
       "texture_worst              0\n",
       "perimeter_worst            0\n",
       "area_worst                 0\n",
       "smoothness_worst           0\n",
       "compactness_worst          0\n",
       "concavity_worst            0\n",
       "concave points_worst       0\n",
       "symmetry_worst             0\n",
       "fractal_dimension_worst    0\n",
       "dtype: int64"
      ]
     },
     "execution_count": 42,
     "metadata": {},
     "output_type": "execute_result"
    }
   ],
   "source": [
    "df_train.isnull().sum()"
   ]
  },
  {
   "cell_type": "markdown",
   "metadata": {},
   "source": [
    "#### Correlation Heat Map"
   ]
  },
  {
   "cell_type": "code",
   "execution_count": 43,
   "metadata": {},
   "outputs": [
    {
     "data": {
      "image/png": "[encoded data removed]",
      "text/plain": [
       "<Figure size 640x480 with 2 Axes>"
      ]
     },
     "metadata": {},
     "output_type": "display_data"
    }
   ],
   "source": [
    "%matplotlib inline\n",
    "import seaborn as sns\n",
    "import matplotlib.pyplot as plt\n",
    "\n",
    "correlations = df_train.corr()\n",
    "sns.heatmap(correlations)\n",
    "plt.show()"
   ]
  },
  {
   "cell_type": "markdown",
   "metadata": {},
   "source": [
    "#### Splitting Training Dataset into Independent and Dependent Variable (X and y Datasets)"
   ]
  },
  {
   "cell_type": "code",
   "execution_count": 44,
   "metadata": {},
   "outputs": [
    {
     "data": {
      "text/html": [
       "<div>\n",
       "<style scoped>\n",
       "    .dataframe tbody tr th:only-of-type {\n",
       "        vertical-align: middle;\n",
       "    }\n",
       "\n",
       "    .dataframe tbody tr th {\n",
       "        vertical-align: top;\n",
       "    }\n",
       "\n",
       "    .dataframe thead th {\n",
       "        text-align: right;\n",
       "    }\n",
       "</style>\n",
       "<table border=\"1\" class=\"dataframe\">\n",
       "  <thead>\n",
       "    <tr style=\"text-align: right;\">\n",
       "      <th></th>\n",
       "      <th>radius_mean</th>\n",
       "      <th>texture_mean</th>\n",
       "      <th>perimeter_mean</th>\n",
       "      <th>area_mean</th>\n",
       "      <th>smoothness_mean</th>\n",
       "      <th>compactness_mean</th>\n",
       "      <th>concavity_mean</th>\n",
       "      <th>concave points_mean</th>\n",
       "      <th>symmetry_mean</th>\n",
       "      <th>fractal_dimension_mean</th>\n",
       "      <th>...</th>\n",
       "      <th>radius_worst</th>\n",
       "      <th>texture_worst</th>\n",
       "      <th>perimeter_worst</th>\n",
       "      <th>area_worst</th>\n",
       "      <th>smoothness_worst</th>\n",
       "      <th>compactness_worst</th>\n",
       "      <th>concavity_worst</th>\n",
       "      <th>concave points_worst</th>\n",
       "      <th>symmetry_worst</th>\n",
       "      <th>fractal_dimension_worst</th>\n",
       "    </tr>\n",
       "  </thead>\n",
       "  <tbody>\n",
       "    <tr>\n",
       "      <th>0</th>\n",
       "      <td>14.47</td>\n",
       "      <td>24.99</td>\n",
       "      <td>95.81</td>\n",
       "      <td>656.4</td>\n",
       "      <td>0.08837</td>\n",
       "      <td>0.12300</td>\n",
       "      <td>0.100900</td>\n",
       "      <td>0.038900</td>\n",
       "      <td>0.1872</td>\n",
       "      <td>0.06341</td>\n",
       "      <td>...</td>\n",
       "      <td>16.22</td>\n",
       "      <td>31.73</td>\n",
       "      <td>113.50</td>\n",
       "      <td>808.9</td>\n",
       "      <td>0.13400</td>\n",
       "      <td>0.4202</td>\n",
       "      <td>0.40400</td>\n",
       "      <td>0.12050</td>\n",
       "      <td>0.3187</td>\n",
       "      <td>0.10230</td>\n",
       "    </tr>\n",
       "    <tr>\n",
       "      <th>1</th>\n",
       "      <td>11.87</td>\n",
       "      <td>21.54</td>\n",
       "      <td>76.83</td>\n",
       "      <td>432.0</td>\n",
       "      <td>0.06613</td>\n",
       "      <td>0.10640</td>\n",
       "      <td>0.087770</td>\n",
       "      <td>0.023860</td>\n",
       "      <td>0.1349</td>\n",
       "      <td>0.06612</td>\n",
       "      <td>...</td>\n",
       "      <td>12.79</td>\n",
       "      <td>28.18</td>\n",
       "      <td>83.51</td>\n",
       "      <td>507.2</td>\n",
       "      <td>0.09457</td>\n",
       "      <td>0.3399</td>\n",
       "      <td>0.32180</td>\n",
       "      <td>0.08750</td>\n",
       "      <td>0.2305</td>\n",
       "      <td>0.09952</td>\n",
       "    </tr>\n",
       "    <tr>\n",
       "      <th>2</th>\n",
       "      <td>16.27</td>\n",
       "      <td>20.71</td>\n",
       "      <td>106.90</td>\n",
       "      <td>813.7</td>\n",
       "      <td>0.11690</td>\n",
       "      <td>0.13190</td>\n",
       "      <td>0.147800</td>\n",
       "      <td>0.084880</td>\n",
       "      <td>0.1948</td>\n",
       "      <td>0.06277</td>\n",
       "      <td>...</td>\n",
       "      <td>19.28</td>\n",
       "      <td>30.38</td>\n",
       "      <td>129.80</td>\n",
       "      <td>1121.0</td>\n",
       "      <td>0.15900</td>\n",
       "      <td>0.2947</td>\n",
       "      <td>0.35970</td>\n",
       "      <td>0.15830</td>\n",
       "      <td>0.3103</td>\n",
       "      <td>0.08200</td>\n",
       "    </tr>\n",
       "    <tr>\n",
       "      <th>3</th>\n",
       "      <td>19.16</td>\n",
       "      <td>26.60</td>\n",
       "      <td>126.20</td>\n",
       "      <td>1138.0</td>\n",
       "      <td>0.10200</td>\n",
       "      <td>0.14530</td>\n",
       "      <td>0.192100</td>\n",
       "      <td>0.096640</td>\n",
       "      <td>0.1902</td>\n",
       "      <td>0.06220</td>\n",
       "      <td>...</td>\n",
       "      <td>23.72</td>\n",
       "      <td>35.90</td>\n",
       "      <td>159.80</td>\n",
       "      <td>1724.0</td>\n",
       "      <td>0.17820</td>\n",
       "      <td>0.3841</td>\n",
       "      <td>0.57540</td>\n",
       "      <td>0.18720</td>\n",
       "      <td>0.3258</td>\n",
       "      <td>0.09720</td>\n",
       "    </tr>\n",
       "    <tr>\n",
       "      <th>4</th>\n",
       "      <td>15.46</td>\n",
       "      <td>19.48</td>\n",
       "      <td>101.70</td>\n",
       "      <td>748.9</td>\n",
       "      <td>0.10920</td>\n",
       "      <td>0.12230</td>\n",
       "      <td>0.146600</td>\n",
       "      <td>0.080870</td>\n",
       "      <td>0.1931</td>\n",
       "      <td>0.05796</td>\n",
       "      <td>...</td>\n",
       "      <td>19.26</td>\n",
       "      <td>26.00</td>\n",
       "      <td>124.90</td>\n",
       "      <td>1156.0</td>\n",
       "      <td>0.15460</td>\n",
       "      <td>0.2394</td>\n",
       "      <td>0.37910</td>\n",
       "      <td>0.15140</td>\n",
       "      <td>0.2837</td>\n",
       "      <td>0.08019</td>\n",
       "    </tr>\n",
       "    <tr>\n",
       "      <th>...</th>\n",
       "      <td>...</td>\n",
       "      <td>...</td>\n",
       "      <td>...</td>\n",
       "      <td>...</td>\n",
       "      <td>...</td>\n",
       "      <td>...</td>\n",
       "      <td>...</td>\n",
       "      <td>...</td>\n",
       "      <td>...</td>\n",
       "      <td>...</td>\n",
       "      <td>...</td>\n",
       "      <td>...</td>\n",
       "      <td>...</td>\n",
       "      <td>...</td>\n",
       "      <td>...</td>\n",
       "      <td>...</td>\n",
       "      <td>...</td>\n",
       "      <td>...</td>\n",
       "      <td>...</td>\n",
       "      <td>...</td>\n",
       "      <td>...</td>\n",
       "    </tr>\n",
       "    <tr>\n",
       "      <th>450</th>\n",
       "      <td>10.60</td>\n",
       "      <td>18.95</td>\n",
       "      <td>69.28</td>\n",
       "      <td>346.4</td>\n",
       "      <td>0.09688</td>\n",
       "      <td>0.11470</td>\n",
       "      <td>0.063870</td>\n",
       "      <td>0.026420</td>\n",
       "      <td>0.1922</td>\n",
       "      <td>0.06491</td>\n",
       "      <td>...</td>\n",
       "      <td>11.88</td>\n",
       "      <td>22.94</td>\n",
       "      <td>78.28</td>\n",
       "      <td>424.8</td>\n",
       "      <td>0.12130</td>\n",
       "      <td>0.2515</td>\n",
       "      <td>0.19160</td>\n",
       "      <td>0.07926</td>\n",
       "      <td>0.2940</td>\n",
       "      <td>0.07587</td>\n",
       "    </tr>\n",
       "    <tr>\n",
       "      <th>451</th>\n",
       "      <td>13.15</td>\n",
       "      <td>15.34</td>\n",
       "      <td>85.31</td>\n",
       "      <td>538.9</td>\n",
       "      <td>0.09384</td>\n",
       "      <td>0.08498</td>\n",
       "      <td>0.092930</td>\n",
       "      <td>0.034830</td>\n",
       "      <td>0.1822</td>\n",
       "      <td>0.06207</td>\n",
       "      <td>...</td>\n",
       "      <td>14.77</td>\n",
       "      <td>20.50</td>\n",
       "      <td>97.67</td>\n",
       "      <td>677.3</td>\n",
       "      <td>0.14780</td>\n",
       "      <td>0.2256</td>\n",
       "      <td>0.30090</td>\n",
       "      <td>0.09722</td>\n",
       "      <td>0.3849</td>\n",
       "      <td>0.08633</td>\n",
       "    </tr>\n",
       "    <tr>\n",
       "      <th>452</th>\n",
       "      <td>10.08</td>\n",
       "      <td>15.11</td>\n",
       "      <td>63.76</td>\n",
       "      <td>317.5</td>\n",
       "      <td>0.09267</td>\n",
       "      <td>0.04695</td>\n",
       "      <td>0.001597</td>\n",
       "      <td>0.002404</td>\n",
       "      <td>0.1703</td>\n",
       "      <td>0.06048</td>\n",
       "      <td>...</td>\n",
       "      <td>11.87</td>\n",
       "      <td>21.18</td>\n",
       "      <td>75.39</td>\n",
       "      <td>437.0</td>\n",
       "      <td>0.15210</td>\n",
       "      <td>0.1019</td>\n",
       "      <td>0.00692</td>\n",
       "      <td>0.01042</td>\n",
       "      <td>0.2933</td>\n",
       "      <td>0.07697</td>\n",
       "    </tr>\n",
       "    <tr>\n",
       "      <th>453</th>\n",
       "      <td>10.26</td>\n",
       "      <td>12.22</td>\n",
       "      <td>65.75</td>\n",
       "      <td>321.6</td>\n",
       "      <td>0.09996</td>\n",
       "      <td>0.07542</td>\n",
       "      <td>0.019230</td>\n",
       "      <td>0.019680</td>\n",
       "      <td>0.1800</td>\n",
       "      <td>0.06569</td>\n",
       "      <td>...</td>\n",
       "      <td>11.38</td>\n",
       "      <td>15.65</td>\n",
       "      <td>73.23</td>\n",
       "      <td>394.5</td>\n",
       "      <td>0.13430</td>\n",
       "      <td>0.1650</td>\n",
       "      <td>0.08615</td>\n",
       "      <td>0.06696</td>\n",
       "      <td>0.2937</td>\n",
       "      <td>0.07722</td>\n",
       "    </tr>\n",
       "    <tr>\n",
       "      <th>454</th>\n",
       "      <td>17.20</td>\n",
       "      <td>24.52</td>\n",
       "      <td>114.20</td>\n",
       "      <td>929.4</td>\n",
       "      <td>0.10710</td>\n",
       "      <td>0.18300</td>\n",
       "      <td>0.169200</td>\n",
       "      <td>0.079440</td>\n",
       "      <td>0.1927</td>\n",
       "      <td>0.06487</td>\n",
       "      <td>...</td>\n",
       "      <td>23.32</td>\n",
       "      <td>33.82</td>\n",
       "      <td>151.60</td>\n",
       "      <td>1681.0</td>\n",
       "      <td>0.15850</td>\n",
       "      <td>0.7394</td>\n",
       "      <td>0.65660</td>\n",
       "      <td>0.18990</td>\n",
       "      <td>0.3313</td>\n",
       "      <td>0.13390</td>\n",
       "    </tr>\n",
       "  </tbody>\n",
       "</table>\n",
       "<p>455 rows × 30 columns</p>\n",
       "</div>"
      ],
      "text/plain": [
       "     radius_mean  texture_mean  perimeter_mean  area_mean  smoothness_mean  \\\n",
       "0          14.47         24.99           95.81      656.4          0.08837   \n",
       "1          11.87         21.54           76.83      432.0          0.06613   \n",
       "2          16.27         20.71          106.90      813.7          0.11690   \n",
       "3          19.16         26.60          126.20     1138.0          0.10200   \n",
       "4          15.46         19.48          101.70      748.9          0.10920   \n",
       "..           ...           ...             ...        ...              ...   \n",
       "450        10.60         18.95           69.28      346.4          0.09688   \n",
       "451        13.15         15.34           85.31      538.9          0.09384   \n",
       "452        10.08         15.11           63.76      317.5          0.09267   \n",
       "453        10.26         12.22           65.75      321.6          0.09996   \n",
       "454        17.20         24.52          114.20      929.4          0.10710   \n",
       "\n",
       "     compactness_mean  concavity_mean  concave points_mean  symmetry_mean  \\\n",
       "0             0.12300        0.100900             0.038900         0.1872   \n",
       "1             0.10640        0.087770             0.023860         0.1349   \n",
       "2             0.13190        0.147800             0.084880         0.1948   \n",
       "3             0.14530        0.192100             0.096640         0.1902   \n",
       "4             0.12230        0.146600             0.080870         0.1931   \n",
       "..                ...             ...                  ...            ...   \n",
       "450           0.11470        0.063870             0.026420         0.1922   \n",
       "451           0.08498        0.092930             0.034830         0.1822   \n",
       "452           0.04695        0.001597             0.002404         0.1703   \n",
       "453           0.07542        0.019230             0.019680         0.1800   \n",
       "454           0.18300        0.169200             0.079440         0.1927   \n",
       "\n",
       "     fractal_dimension_mean  ...  radius_worst  texture_worst  \\\n",
       "0                   0.06341  ...         16.22          31.73   \n",
       "1                   0.06612  ...         12.79          28.18   \n",
       "2                   0.06277  ...         19.28          30.38   \n",
       "3                   0.06220  ...         23.72          35.90   \n",
       "4                   0.05796  ...         19.26          26.00   \n",
       "..                      ...  ...           ...            ...   \n",
       "450                 0.06491  ...         11.88          22.94   \n",
       "451                 0.06207  ...         14.77          20.50   \n",
       "452                 0.06048  ...         11.87          21.18   \n",
       "453                 0.06569  ...         11.38          15.65   \n",
       "454                 0.06487  ...         23.32          33.82   \n",
       "\n",
       "     perimeter_worst  area_worst  smoothness_worst  compactness_worst  \\\n",
       "0             113.50       808.9           0.13400             0.4202   \n",
       "1              83.51       507.2           0.09457             0.3399   \n",
       "2             129.80      1121.0           0.15900             0.2947   \n",
       "3             159.80      1724.0           0.17820             0.3841   \n",
       "4             124.90      1156.0           0.15460             0.2394   \n",
       "..               ...         ...               ...                ...   \n",
       "450            78.28       424.8           0.12130             0.2515   \n",
       "451            97.67       677.3           0.14780             0.2256   \n",
       "452            75.39       437.0           0.15210             0.1019   \n",
       "453            73.23       394.5           0.13430             0.1650   \n",
       "454           151.60      1681.0           0.15850             0.7394   \n",
       "\n",
       "     concavity_worst  concave points_worst  symmetry_worst  \\\n",
       "0            0.40400               0.12050          0.3187   \n",
       "1            0.32180               0.08750          0.2305   \n",
       "2            0.35970               0.15830          0.3103   \n",
       "3            0.57540               0.18720          0.3258   \n",
       "4            0.37910               0.15140          0.2837   \n",
       "..               ...                   ...             ...   \n",
       "450          0.19160               0.07926          0.2940   \n",
       "451          0.30090               0.09722          0.3849   \n",
       "452          0.00692               0.01042          0.2933   \n",
       "453          0.08615               0.06696          0.2937   \n",
       "454          0.65660               0.18990          0.3313   \n",
       "\n",
       "     fractal_dimension_worst  \n",
       "0                    0.10230  \n",
       "1                    0.09952  \n",
       "2                    0.08200  \n",
       "3                    0.09720  \n",
       "4                    0.08019  \n",
       "..                       ...  \n",
       "450                  0.07587  \n",
       "451                  0.08633  \n",
       "452                  0.07697  \n",
       "453                  0.07722  \n",
       "454                  0.13390  \n",
       "\n",
       "[455 rows x 30 columns]"
      ]
     },
     "execution_count": 44,
     "metadata": {},
     "output_type": "execute_result"
    }
   ],
   "source": [
    "X = df_train.drop(columns = ['diagnosis'])\n",
    "X"
   ]
  },
  {
   "cell_type": "code",
   "execution_count": 45,
   "metadata": {},
   "outputs": [
    {
     "data": {
      "text/html": [
       "<div>\n",
       "<style scoped>\n",
       "    .dataframe tbody tr th:only-of-type {\n",
       "        vertical-align: middle;\n",
       "    }\n",
       "\n",
       "    .dataframe tbody tr th {\n",
       "        vertical-align: top;\n",
       "    }\n",
       "\n",
       "    .dataframe thead th {\n",
       "        text-align: right;\n",
       "    }\n",
       "</style>\n",
       "<table border=\"1\" class=\"dataframe\">\n",
       "  <thead>\n",
       "    <tr style=\"text-align: right;\">\n",
       "      <th></th>\n",
       "      <th>diagnosis</th>\n",
       "    </tr>\n",
       "  </thead>\n",
       "  <tbody>\n",
       "    <tr>\n",
       "      <th>0</th>\n",
       "      <td>B</td>\n",
       "    </tr>\n",
       "    <tr>\n",
       "      <th>1</th>\n",
       "      <td>B</td>\n",
       "    </tr>\n",
       "    <tr>\n",
       "      <th>2</th>\n",
       "      <td>M</td>\n",
       "    </tr>\n",
       "    <tr>\n",
       "      <th>3</th>\n",
       "      <td>M</td>\n",
       "    </tr>\n",
       "    <tr>\n",
       "      <th>4</th>\n",
       "      <td>M</td>\n",
       "    </tr>\n",
       "    <tr>\n",
       "      <th>...</th>\n",
       "      <td>...</td>\n",
       "    </tr>\n",
       "    <tr>\n",
       "      <th>450</th>\n",
       "      <td>B</td>\n",
       "    </tr>\n",
       "    <tr>\n",
       "      <th>451</th>\n",
       "      <td>B</td>\n",
       "    </tr>\n",
       "    <tr>\n",
       "      <th>452</th>\n",
       "      <td>B</td>\n",
       "    </tr>\n",
       "    <tr>\n",
       "      <th>453</th>\n",
       "      <td>B</td>\n",
       "    </tr>\n",
       "    <tr>\n",
       "      <th>454</th>\n",
       "      <td>M</td>\n",
       "    </tr>\n",
       "  </tbody>\n",
       "</table>\n",
       "<p>455 rows × 1 columns</p>\n",
       "</div>"
      ],
      "text/plain": [
       "    diagnosis\n",
       "0           B\n",
       "1           B\n",
       "2           M\n",
       "3           M\n",
       "4           M\n",
       "..        ...\n",
       "450         B\n",
       "451         B\n",
       "452         B\n",
       "453         B\n",
       "454         M\n",
       "\n",
       "[455 rows x 1 columns]"
      ]
     },
     "execution_count": 45,
     "metadata": {},
     "output_type": "execute_result"
    }
   ],
   "source": [
    "y = pd.DataFrame(df_train['diagnosis'], columns = ['diagnosis'])\n",
    "y"
   ]
  },
  {
   "cell_type": "markdown",
   "metadata": {},
   "source": [
    "#### Feature Scaling"
   ]
  },
  {
   "cell_type": "code",
   "execution_count": 46,
   "metadata": {},
   "outputs": [],
   "source": [
    "from sklearn.preprocessing import StandardScaler\n",
    "sc = StandardScaler() \n",
    "\n",
    "X_train = sc.fit_transform(X)"
   ]
  },
  {
   "cell_type": "code",
   "execution_count": 47,
   "metadata": {},
   "outputs": [
    {
     "name": "stdout",
     "output_type": "stream",
     "text": [
      "[[ 0.15253647  1.3263287   0.21394939 ...  0.10028727  0.45872586\n",
      "   0.95709079]\n",
      " [-0.62003651  0.53295746 -0.60416121 ... -0.40202909 -0.96831616\n",
      "   0.80729055]\n",
      " [ 0.68739468  0.34208844  0.6919708  ...  0.67566783  0.3228171\n",
      "  -0.13677429]\n",
      " ...\n",
      " [-1.15192329 -0.94570256 -1.1675282  ... -1.57531834  0.04776365\n",
      "  -0.40781574]\n",
      " [-1.09843747 -1.6102947  -1.08175158 ... -0.71468297  0.05423549\n",
      "  -0.39434449]\n",
      " [ 0.9637381   1.21824624  1.00662872 ...  1.1566738   0.66258901\n",
      "   2.65985614]]\n"
     ]
    }
   ],
   "source": [
    "print(X_train)"
   ]
  },
  {
   "cell_type": "markdown",
   "metadata": {},
   "source": [
    "#### Creating the Model & Training the SVM on the Training Set"
   ]
  },
  {
   "cell_type": "code",
   "execution_count": 48,
   "metadata": {},
   "outputs": [
    {
     "name": "stderr",
     "output_type": "stream",
     "text": [
      "C:\\ProgramData\\Anaconda3\\lib\\site-packages\\sklearn\\utils\\validation.py:993: DataConversionWarning:\n",
      "\n",
      "A column-vector y was passed when a 1d array was expected. Please change the shape of y to (n_samples, ), for example using ravel().\n",
      "\n"
     ]
    },
    {
     "data": {
      "text/plain": [
       "SVC(gamma='auto', kernel='linear')"
      ]
     },
     "execution_count": 48,
     "metadata": {},
     "output_type": "execute_result"
    }
   ],
   "source": [
    "from sklearn.svm import SVC\n",
    "\n",
    "classifier = SVC(gamma='auto', kernel = 'linear')\n",
    "classifier.fit(X_train, y)"
   ]
  },
  {
   "cell_type": "markdown",
   "metadata": {},
   "source": [
    "### **Implementing Testing Data to the Model Created**"
   ]
  },
  {
   "cell_type": "markdown",
   "metadata": {},
   "source": [
    "#### Importing the Testing Data"
   ]
  },
  {
   "cell_type": "code",
   "execution_count": 49,
   "metadata": {},
   "outputs": [
    {
     "data": {
      "text/html": [
       "<div>\n",
       "<style scoped>\n",
       "    .dataframe tbody tr th:only-of-type {\n",
       "        vertical-align: middle;\n",
       "    }\n",
       "\n",
       "    .dataframe tbody tr th {\n",
       "        vertical-align: top;\n",
       "    }\n",
       "\n",
       "    .dataframe thead th {\n",
       "        text-align: right;\n",
       "    }\n",
       "</style>\n",
       "<table border=\"1\" class=\"dataframe\">\n",
       "  <thead>\n",
       "    <tr style=\"text-align: right;\">\n",
       "      <th></th>\n",
       "      <th>diagnosis</th>\n",
       "      <th>radius_mean</th>\n",
       "      <th>texture_mean</th>\n",
       "      <th>perimeter_mean</th>\n",
       "      <th>area_mean</th>\n",
       "      <th>smoothness_mean</th>\n",
       "      <th>compactness_mean</th>\n",
       "      <th>concavity_mean</th>\n",
       "      <th>concave points_mean</th>\n",
       "      <th>symmetry_mean</th>\n",
       "      <th>...</th>\n",
       "      <th>radius_worst</th>\n",
       "      <th>texture_worst</th>\n",
       "      <th>perimeter_worst</th>\n",
       "      <th>area_worst</th>\n",
       "      <th>smoothness_worst</th>\n",
       "      <th>compactness_worst</th>\n",
       "      <th>concavity_worst</th>\n",
       "      <th>concave points_worst</th>\n",
       "      <th>symmetry_worst</th>\n",
       "      <th>fractal_dimension_worst</th>\n",
       "    </tr>\n",
       "  </thead>\n",
       "  <tbody>\n",
       "    <tr>\n",
       "      <th>0</th>\n",
       "      <td>B</td>\n",
       "      <td>12.87</td>\n",
       "      <td>19.54</td>\n",
       "      <td>82.67</td>\n",
       "      <td>509.2</td>\n",
       "      <td>0.09136</td>\n",
       "      <td>0.07883</td>\n",
       "      <td>0.01797</td>\n",
       "      <td>0.02090</td>\n",
       "      <td>0.1861</td>\n",
       "      <td>...</td>\n",
       "      <td>14.45</td>\n",
       "      <td>24.38</td>\n",
       "      <td>95.14</td>\n",
       "      <td>626.9</td>\n",
       "      <td>0.1214</td>\n",
       "      <td>0.16520</td>\n",
       "      <td>0.07127</td>\n",
       "      <td>0.06384</td>\n",
       "      <td>0.3313</td>\n",
       "      <td>0.07735</td>\n",
       "    </tr>\n",
       "    <tr>\n",
       "      <th>1</th>\n",
       "      <td>M</td>\n",
       "      <td>17.19</td>\n",
       "      <td>22.07</td>\n",
       "      <td>111.60</td>\n",
       "      <td>928.3</td>\n",
       "      <td>0.09726</td>\n",
       "      <td>0.08995</td>\n",
       "      <td>0.09061</td>\n",
       "      <td>0.06527</td>\n",
       "      <td>0.1867</td>\n",
       "      <td>...</td>\n",
       "      <td>21.58</td>\n",
       "      <td>29.33</td>\n",
       "      <td>140.50</td>\n",
       "      <td>1436.0</td>\n",
       "      <td>0.1558</td>\n",
       "      <td>0.25670</td>\n",
       "      <td>0.38890</td>\n",
       "      <td>0.19840</td>\n",
       "      <td>0.3216</td>\n",
       "      <td>0.07570</td>\n",
       "    </tr>\n",
       "    <tr>\n",
       "      <th>2</th>\n",
       "      <td>M</td>\n",
       "      <td>18.66</td>\n",
       "      <td>17.12</td>\n",
       "      <td>121.40</td>\n",
       "      <td>1077.0</td>\n",
       "      <td>0.10540</td>\n",
       "      <td>0.11000</td>\n",
       "      <td>0.14570</td>\n",
       "      <td>0.08665</td>\n",
       "      <td>0.1966</td>\n",
       "      <td>...</td>\n",
       "      <td>22.25</td>\n",
       "      <td>24.90</td>\n",
       "      <td>145.40</td>\n",
       "      <td>1549.0</td>\n",
       "      <td>0.1503</td>\n",
       "      <td>0.22910</td>\n",
       "      <td>0.32720</td>\n",
       "      <td>0.16740</td>\n",
       "      <td>0.2894</td>\n",
       "      <td>0.08456</td>\n",
       "    </tr>\n",
       "    <tr>\n",
       "      <th>3</th>\n",
       "      <td>B</td>\n",
       "      <td>12.18</td>\n",
       "      <td>17.84</td>\n",
       "      <td>77.79</td>\n",
       "      <td>451.1</td>\n",
       "      <td>0.10450</td>\n",
       "      <td>0.07057</td>\n",
       "      <td>0.02490</td>\n",
       "      <td>0.02941</td>\n",
       "      <td>0.1900</td>\n",
       "      <td>...</td>\n",
       "      <td>12.83</td>\n",
       "      <td>20.92</td>\n",
       "      <td>82.14</td>\n",
       "      <td>495.2</td>\n",
       "      <td>0.1140</td>\n",
       "      <td>0.09358</td>\n",
       "      <td>0.04980</td>\n",
       "      <td>0.05882</td>\n",
       "      <td>0.2227</td>\n",
       "      <td>0.07376</td>\n",
       "    </tr>\n",
       "    <tr>\n",
       "      <th>4</th>\n",
       "      <td>M</td>\n",
       "      <td>20.94</td>\n",
       "      <td>23.56</td>\n",
       "      <td>138.90</td>\n",
       "      <td>1364.0</td>\n",
       "      <td>0.10070</td>\n",
       "      <td>0.16060</td>\n",
       "      <td>0.27120</td>\n",
       "      <td>0.13100</td>\n",
       "      <td>0.2205</td>\n",
       "      <td>...</td>\n",
       "      <td>25.58</td>\n",
       "      <td>27.00</td>\n",
       "      <td>165.30</td>\n",
       "      <td>2010.0</td>\n",
       "      <td>0.1211</td>\n",
       "      <td>0.31720</td>\n",
       "      <td>0.69910</td>\n",
       "      <td>0.21050</td>\n",
       "      <td>0.3126</td>\n",
       "      <td>0.07849</td>\n",
       "    </tr>\n",
       "    <tr>\n",
       "      <th>...</th>\n",
       "      <td>...</td>\n",
       "      <td>...</td>\n",
       "      <td>...</td>\n",
       "      <td>...</td>\n",
       "      <td>...</td>\n",
       "      <td>...</td>\n",
       "      <td>...</td>\n",
       "      <td>...</td>\n",
       "      <td>...</td>\n",
       "      <td>...</td>\n",
       "      <td>...</td>\n",
       "      <td>...</td>\n",
       "      <td>...</td>\n",
       "      <td>...</td>\n",
       "      <td>...</td>\n",
       "      <td>...</td>\n",
       "      <td>...</td>\n",
       "      <td>...</td>\n",
       "      <td>...</td>\n",
       "      <td>...</td>\n",
       "      <td>...</td>\n",
       "    </tr>\n",
       "    <tr>\n",
       "      <th>109</th>\n",
       "      <td>M</td>\n",
       "      <td>15.61</td>\n",
       "      <td>19.38</td>\n",
       "      <td>100.00</td>\n",
       "      <td>758.6</td>\n",
       "      <td>0.07840</td>\n",
       "      <td>0.05616</td>\n",
       "      <td>0.04209</td>\n",
       "      <td>0.02847</td>\n",
       "      <td>0.1547</td>\n",
       "      <td>...</td>\n",
       "      <td>17.91</td>\n",
       "      <td>31.67</td>\n",
       "      <td>115.90</td>\n",
       "      <td>988.6</td>\n",
       "      <td>0.1084</td>\n",
       "      <td>0.18070</td>\n",
       "      <td>0.22600</td>\n",
       "      <td>0.08568</td>\n",
       "      <td>0.2683</td>\n",
       "      <td>0.06829</td>\n",
       "    </tr>\n",
       "    <tr>\n",
       "      <th>110</th>\n",
       "      <td>M</td>\n",
       "      <td>16.46</td>\n",
       "      <td>20.11</td>\n",
       "      <td>109.30</td>\n",
       "      <td>832.9</td>\n",
       "      <td>0.09831</td>\n",
       "      <td>0.15560</td>\n",
       "      <td>0.17930</td>\n",
       "      <td>0.08866</td>\n",
       "      <td>0.1794</td>\n",
       "      <td>...</td>\n",
       "      <td>17.79</td>\n",
       "      <td>28.45</td>\n",
       "      <td>123.50</td>\n",
       "      <td>981.2</td>\n",
       "      <td>0.1415</td>\n",
       "      <td>0.46670</td>\n",
       "      <td>0.58620</td>\n",
       "      <td>0.20350</td>\n",
       "      <td>0.3054</td>\n",
       "      <td>0.09519</td>\n",
       "    </tr>\n",
       "    <tr>\n",
       "      <th>111</th>\n",
       "      <td>B</td>\n",
       "      <td>11.51</td>\n",
       "      <td>23.93</td>\n",
       "      <td>74.52</td>\n",
       "      <td>403.5</td>\n",
       "      <td>0.09261</td>\n",
       "      <td>0.10210</td>\n",
       "      <td>0.11120</td>\n",
       "      <td>0.04105</td>\n",
       "      <td>0.1388</td>\n",
       "      <td>...</td>\n",
       "      <td>12.48</td>\n",
       "      <td>37.16</td>\n",
       "      <td>82.28</td>\n",
       "      <td>474.2</td>\n",
       "      <td>0.1298</td>\n",
       "      <td>0.25170</td>\n",
       "      <td>0.36300</td>\n",
       "      <td>0.09653</td>\n",
       "      <td>0.2112</td>\n",
       "      <td>0.08732</td>\n",
       "    </tr>\n",
       "    <tr>\n",
       "      <th>112</th>\n",
       "      <td>M</td>\n",
       "      <td>17.99</td>\n",
       "      <td>10.38</td>\n",
       "      <td>122.80</td>\n",
       "      <td>1001.0</td>\n",
       "      <td>0.11840</td>\n",
       "      <td>0.27760</td>\n",
       "      <td>0.30010</td>\n",
       "      <td>0.14710</td>\n",
       "      <td>0.2419</td>\n",
       "      <td>...</td>\n",
       "      <td>25.38</td>\n",
       "      <td>17.33</td>\n",
       "      <td>184.60</td>\n",
       "      <td>2019.0</td>\n",
       "      <td>0.1622</td>\n",
       "      <td>0.66560</td>\n",
       "      <td>0.71190</td>\n",
       "      <td>0.26540</td>\n",
       "      <td>0.4601</td>\n",
       "      <td>0.11890</td>\n",
       "    </tr>\n",
       "    <tr>\n",
       "      <th>113</th>\n",
       "      <td>M</td>\n",
       "      <td>23.09</td>\n",
       "      <td>19.83</td>\n",
       "      <td>152.10</td>\n",
       "      <td>1682.0</td>\n",
       "      <td>0.09342</td>\n",
       "      <td>0.12750</td>\n",
       "      <td>0.16760</td>\n",
       "      <td>0.10030</td>\n",
       "      <td>0.1505</td>\n",
       "      <td>...</td>\n",
       "      <td>30.79</td>\n",
       "      <td>23.87</td>\n",
       "      <td>211.50</td>\n",
       "      <td>2782.0</td>\n",
       "      <td>0.1199</td>\n",
       "      <td>0.36250</td>\n",
       "      <td>0.37940</td>\n",
       "      <td>0.22640</td>\n",
       "      <td>0.2908</td>\n",
       "      <td>0.07277</td>\n",
       "    </tr>\n",
       "  </tbody>\n",
       "</table>\n",
       "<p>114 rows × 31 columns</p>\n",
       "</div>"
      ],
      "text/plain": [
       "    diagnosis  radius_mean  texture_mean  perimeter_mean  area_mean  \\\n",
       "0           B        12.87         19.54           82.67      509.2   \n",
       "1           M        17.19         22.07          111.60      928.3   \n",
       "2           M        18.66         17.12          121.40     1077.0   \n",
       "3           B        12.18         17.84           77.79      451.1   \n",
       "4           M        20.94         23.56          138.90     1364.0   \n",
       "..        ...          ...           ...             ...        ...   \n",
       "109         M        15.61         19.38          100.00      758.6   \n",
       "110         M        16.46         20.11          109.30      832.9   \n",
       "111         B        11.51         23.93           74.52      403.5   \n",
       "112         M        17.99         10.38          122.80     1001.0   \n",
       "113         M        23.09         19.83          152.10     1682.0   \n",
       "\n",
       "     smoothness_mean  compactness_mean  concavity_mean  concave points_mean  \\\n",
       "0            0.09136           0.07883         0.01797              0.02090   \n",
       "1            0.09726           0.08995         0.09061              0.06527   \n",
       "2            0.10540           0.11000         0.14570              0.08665   \n",
       "3            0.10450           0.07057         0.02490              0.02941   \n",
       "4            0.10070           0.16060         0.27120              0.13100   \n",
       "..               ...               ...             ...                  ...   \n",
       "109          0.07840           0.05616         0.04209              0.02847   \n",
       "110          0.09831           0.15560         0.17930              0.08866   \n",
       "111          0.09261           0.10210         0.11120              0.04105   \n",
       "112          0.11840           0.27760         0.30010              0.14710   \n",
       "113          0.09342           0.12750         0.16760              0.10030   \n",
       "\n",
       "     symmetry_mean  ...  radius_worst  texture_worst  perimeter_worst  \\\n",
       "0           0.1861  ...         14.45          24.38            95.14   \n",
       "1           0.1867  ...         21.58          29.33           140.50   \n",
       "2           0.1966  ...         22.25          24.90           145.40   \n",
       "3           0.1900  ...         12.83          20.92            82.14   \n",
       "4           0.2205  ...         25.58          27.00           165.30   \n",
       "..             ...  ...           ...            ...              ...   \n",
       "109         0.1547  ...         17.91          31.67           115.90   \n",
       "110         0.1794  ...         17.79          28.45           123.50   \n",
       "111         0.1388  ...         12.48          37.16            82.28   \n",
       "112         0.2419  ...         25.38          17.33           184.60   \n",
       "113         0.1505  ...         30.79          23.87           211.50   \n",
       "\n",
       "     area_worst  smoothness_worst  compactness_worst  concavity_worst  \\\n",
       "0         626.9            0.1214            0.16520          0.07127   \n",
       "1        1436.0            0.1558            0.25670          0.38890   \n",
       "2        1549.0            0.1503            0.22910          0.32720   \n",
       "3         495.2            0.1140            0.09358          0.04980   \n",
       "4        2010.0            0.1211            0.31720          0.69910   \n",
       "..          ...               ...                ...              ...   \n",
       "109       988.6            0.1084            0.18070          0.22600   \n",
       "110       981.2            0.1415            0.46670          0.58620   \n",
       "111       474.2            0.1298            0.25170          0.36300   \n",
       "112      2019.0            0.1622            0.66560          0.71190   \n",
       "113      2782.0            0.1199            0.36250          0.37940   \n",
       "\n",
       "     concave points_worst  symmetry_worst  fractal_dimension_worst  \n",
       "0                 0.06384          0.3313                  0.07735  \n",
       "1                 0.19840          0.3216                  0.07570  \n",
       "2                 0.16740          0.2894                  0.08456  \n",
       "3                 0.05882          0.2227                  0.07376  \n",
       "4                 0.21050          0.3126                  0.07849  \n",
       "..                    ...             ...                      ...  \n",
       "109               0.08568          0.2683                  0.06829  \n",
       "110               0.20350          0.3054                  0.09519  \n",
       "111               0.09653          0.2112                  0.08732  \n",
       "112               0.26540          0.4601                  0.11890  \n",
       "113               0.22640          0.2908                  0.07277  \n",
       "\n",
       "[114 rows x 31 columns]"
      ]
     },
     "execution_count": 49,
     "metadata": {},
     "output_type": "execute_result"
    }
   ],
   "source": [
    "df_test = pd.read_csv('Classification - Testing.csv')\n",
    "df_test = df_test.drop(df_test.columns[0:2], axis = 1)\n",
    "df_test"
   ]
  },
  {
   "cell_type": "markdown",
   "metadata": {},
   "source": [
    "#### Checking for any Missing Values in the Dataset"
   ]
  },
  {
   "cell_type": "code",
   "execution_count": 50,
   "metadata": {},
   "outputs": [
    {
     "data": {
      "text/plain": [
       "diagnosis                  0\n",
       "radius_mean                0\n",
       "texture_mean               0\n",
       "perimeter_mean             0\n",
       "area_mean                  0\n",
       "smoothness_mean            0\n",
       "compactness_mean           0\n",
       "concavity_mean             0\n",
       "concave points_mean        0\n",
       "symmetry_mean              0\n",
       "fractal_dimension_mean     0\n",
       "radius_se                  0\n",
       "texture_se                 0\n",
       "perimeter_se               0\n",
       "area_se                    0\n",
       "smoothness_se              0\n",
       "compactness_se             0\n",
       "concavity_se               0\n",
       "concave points_se          0\n",
       "symmetry_se                0\n",
       "fractal_dimension_se       0\n",
       "radius_worst               0\n",
       "texture_worst              0\n",
       "perimeter_worst            0\n",
       "area_worst                 0\n",
       "smoothness_worst           0\n",
       "compactness_worst          0\n",
       "concavity_worst            0\n",
       "concave points_worst       0\n",
       "symmetry_worst             0\n",
       "fractal_dimension_worst    0\n",
       "dtype: int64"
      ]
     },
     "execution_count": 50,
     "metadata": {},
     "output_type": "execute_result"
    }
   ],
   "source": [
    "df_test.isnull().sum()"
   ]
  },
  {
   "cell_type": "markdown",
   "metadata": {},
   "source": [
    "#### Splitting Testing Dataset into Independent and Dependent Variable (X and y Datasets)"
   ]
  },
  {
   "cell_type": "code",
   "execution_count": 51,
   "metadata": {},
   "outputs": [
    {
     "data": {
      "text/html": [
       "<div>\n",
       "<style scoped>\n",
       "    .dataframe tbody tr th:only-of-type {\n",
       "        vertical-align: middle;\n",
       "    }\n",
       "\n",
       "    .dataframe tbody tr th {\n",
       "        vertical-align: top;\n",
       "    }\n",
       "\n",
       "    .dataframe thead th {\n",
       "        text-align: right;\n",
       "    }\n",
       "</style>\n",
       "<table border=\"1\" class=\"dataframe\">\n",
       "  <thead>\n",
       "    <tr style=\"text-align: right;\">\n",
       "      <th></th>\n",
       "      <th>radius_mean</th>\n",
       "      <th>texture_mean</th>\n",
       "      <th>perimeter_mean</th>\n",
       "      <th>area_mean</th>\n",
       "      <th>smoothness_mean</th>\n",
       "      <th>compactness_mean</th>\n",
       "      <th>concavity_mean</th>\n",
       "      <th>concave points_mean</th>\n",
       "      <th>symmetry_mean</th>\n",
       "      <th>fractal_dimension_mean</th>\n",
       "      <th>...</th>\n",
       "      <th>radius_worst</th>\n",
       "      <th>texture_worst</th>\n",
       "      <th>perimeter_worst</th>\n",
       "      <th>area_worst</th>\n",
       "      <th>smoothness_worst</th>\n",
       "      <th>compactness_worst</th>\n",
       "      <th>concavity_worst</th>\n",
       "      <th>concave points_worst</th>\n",
       "      <th>symmetry_worst</th>\n",
       "      <th>fractal_dimension_worst</th>\n",
       "    </tr>\n",
       "  </thead>\n",
       "  <tbody>\n",
       "    <tr>\n",
       "      <th>0</th>\n",
       "      <td>12.87</td>\n",
       "      <td>19.54</td>\n",
       "      <td>82.67</td>\n",
       "      <td>509.2</td>\n",
       "      <td>0.09136</td>\n",
       "      <td>0.07883</td>\n",
       "      <td>0.01797</td>\n",
       "      <td>0.02090</td>\n",
       "      <td>0.1861</td>\n",
       "      <td>0.06347</td>\n",
       "      <td>...</td>\n",
       "      <td>14.45</td>\n",
       "      <td>24.38</td>\n",
       "      <td>95.14</td>\n",
       "      <td>626.9</td>\n",
       "      <td>0.1214</td>\n",
       "      <td>0.16520</td>\n",
       "      <td>0.07127</td>\n",
       "      <td>0.06384</td>\n",
       "      <td>0.3313</td>\n",
       "      <td>0.07735</td>\n",
       "    </tr>\n",
       "    <tr>\n",
       "      <th>1</th>\n",
       "      <td>17.19</td>\n",
       "      <td>22.07</td>\n",
       "      <td>111.60</td>\n",
       "      <td>928.3</td>\n",
       "      <td>0.09726</td>\n",
       "      <td>0.08995</td>\n",
       "      <td>0.09061</td>\n",
       "      <td>0.06527</td>\n",
       "      <td>0.1867</td>\n",
       "      <td>0.05580</td>\n",
       "      <td>...</td>\n",
       "      <td>21.58</td>\n",
       "      <td>29.33</td>\n",
       "      <td>140.50</td>\n",
       "      <td>1436.0</td>\n",
       "      <td>0.1558</td>\n",
       "      <td>0.25670</td>\n",
       "      <td>0.38890</td>\n",
       "      <td>0.19840</td>\n",
       "      <td>0.3216</td>\n",
       "      <td>0.07570</td>\n",
       "    </tr>\n",
       "    <tr>\n",
       "      <th>2</th>\n",
       "      <td>18.66</td>\n",
       "      <td>17.12</td>\n",
       "      <td>121.40</td>\n",
       "      <td>1077.0</td>\n",
       "      <td>0.10540</td>\n",
       "      <td>0.11000</td>\n",
       "      <td>0.14570</td>\n",
       "      <td>0.08665</td>\n",
       "      <td>0.1966</td>\n",
       "      <td>0.06213</td>\n",
       "      <td>...</td>\n",
       "      <td>22.25</td>\n",
       "      <td>24.90</td>\n",
       "      <td>145.40</td>\n",
       "      <td>1549.0</td>\n",
       "      <td>0.1503</td>\n",
       "      <td>0.22910</td>\n",
       "      <td>0.32720</td>\n",
       "      <td>0.16740</td>\n",
       "      <td>0.2894</td>\n",
       "      <td>0.08456</td>\n",
       "    </tr>\n",
       "    <tr>\n",
       "      <th>3</th>\n",
       "      <td>12.18</td>\n",
       "      <td>17.84</td>\n",
       "      <td>77.79</td>\n",
       "      <td>451.1</td>\n",
       "      <td>0.10450</td>\n",
       "      <td>0.07057</td>\n",
       "      <td>0.02490</td>\n",
       "      <td>0.02941</td>\n",
       "      <td>0.1900</td>\n",
       "      <td>0.06635</td>\n",
       "      <td>...</td>\n",
       "      <td>12.83</td>\n",
       "      <td>20.92</td>\n",
       "      <td>82.14</td>\n",
       "      <td>495.2</td>\n",
       "      <td>0.1140</td>\n",
       "      <td>0.09358</td>\n",
       "      <td>0.04980</td>\n",
       "      <td>0.05882</td>\n",
       "      <td>0.2227</td>\n",
       "      <td>0.07376</td>\n",
       "    </tr>\n",
       "    <tr>\n",
       "      <th>4</th>\n",
       "      <td>20.94</td>\n",
       "      <td>23.56</td>\n",
       "      <td>138.90</td>\n",
       "      <td>1364.0</td>\n",
       "      <td>0.10070</td>\n",
       "      <td>0.16060</td>\n",
       "      <td>0.27120</td>\n",
       "      <td>0.13100</td>\n",
       "      <td>0.2205</td>\n",
       "      <td>0.05898</td>\n",
       "      <td>...</td>\n",
       "      <td>25.58</td>\n",
       "      <td>27.00</td>\n",
       "      <td>165.30</td>\n",
       "      <td>2010.0</td>\n",
       "      <td>0.1211</td>\n",
       "      <td>0.31720</td>\n",
       "      <td>0.69910</td>\n",
       "      <td>0.21050</td>\n",
       "      <td>0.3126</td>\n",
       "      <td>0.07849</td>\n",
       "    </tr>\n",
       "    <tr>\n",
       "      <th>...</th>\n",
       "      <td>...</td>\n",
       "      <td>...</td>\n",
       "      <td>...</td>\n",
       "      <td>...</td>\n",
       "      <td>...</td>\n",
       "      <td>...</td>\n",
       "      <td>...</td>\n",
       "      <td>...</td>\n",
       "      <td>...</td>\n",
       "      <td>...</td>\n",
       "      <td>...</td>\n",
       "      <td>...</td>\n",
       "      <td>...</td>\n",
       "      <td>...</td>\n",
       "      <td>...</td>\n",
       "      <td>...</td>\n",
       "      <td>...</td>\n",
       "      <td>...</td>\n",
       "      <td>...</td>\n",
       "      <td>...</td>\n",
       "      <td>...</td>\n",
       "    </tr>\n",
       "    <tr>\n",
       "      <th>109</th>\n",
       "      <td>15.61</td>\n",
       "      <td>19.38</td>\n",
       "      <td>100.00</td>\n",
       "      <td>758.6</td>\n",
       "      <td>0.07840</td>\n",
       "      <td>0.05616</td>\n",
       "      <td>0.04209</td>\n",
       "      <td>0.02847</td>\n",
       "      <td>0.1547</td>\n",
       "      <td>0.05443</td>\n",
       "      <td>...</td>\n",
       "      <td>17.91</td>\n",
       "      <td>31.67</td>\n",
       "      <td>115.90</td>\n",
       "      <td>988.6</td>\n",
       "      <td>0.1084</td>\n",
       "      <td>0.18070</td>\n",
       "      <td>0.22600</td>\n",
       "      <td>0.08568</td>\n",
       "      <td>0.2683</td>\n",
       "      <td>0.06829</td>\n",
       "    </tr>\n",
       "    <tr>\n",
       "      <th>110</th>\n",
       "      <td>16.46</td>\n",
       "      <td>20.11</td>\n",
       "      <td>109.30</td>\n",
       "      <td>832.9</td>\n",
       "      <td>0.09831</td>\n",
       "      <td>0.15560</td>\n",
       "      <td>0.17930</td>\n",
       "      <td>0.08866</td>\n",
       "      <td>0.1794</td>\n",
       "      <td>0.06323</td>\n",
       "      <td>...</td>\n",
       "      <td>17.79</td>\n",
       "      <td>28.45</td>\n",
       "      <td>123.50</td>\n",
       "      <td>981.2</td>\n",
       "      <td>0.1415</td>\n",
       "      <td>0.46670</td>\n",
       "      <td>0.58620</td>\n",
       "      <td>0.20350</td>\n",
       "      <td>0.3054</td>\n",
       "      <td>0.09519</td>\n",
       "    </tr>\n",
       "    <tr>\n",
       "      <th>111</th>\n",
       "      <td>11.51</td>\n",
       "      <td>23.93</td>\n",
       "      <td>74.52</td>\n",
       "      <td>403.5</td>\n",
       "      <td>0.09261</td>\n",
       "      <td>0.10210</td>\n",
       "      <td>0.11120</td>\n",
       "      <td>0.04105</td>\n",
       "      <td>0.1388</td>\n",
       "      <td>0.06570</td>\n",
       "      <td>...</td>\n",
       "      <td>12.48</td>\n",
       "      <td>37.16</td>\n",
       "      <td>82.28</td>\n",
       "      <td>474.2</td>\n",
       "      <td>0.1298</td>\n",
       "      <td>0.25170</td>\n",
       "      <td>0.36300</td>\n",
       "      <td>0.09653</td>\n",
       "      <td>0.2112</td>\n",
       "      <td>0.08732</td>\n",
       "    </tr>\n",
       "    <tr>\n",
       "      <th>112</th>\n",
       "      <td>17.99</td>\n",
       "      <td>10.38</td>\n",
       "      <td>122.80</td>\n",
       "      <td>1001.0</td>\n",
       "      <td>0.11840</td>\n",
       "      <td>0.27760</td>\n",
       "      <td>0.30010</td>\n",
       "      <td>0.14710</td>\n",
       "      <td>0.2419</td>\n",
       "      <td>0.07871</td>\n",
       "      <td>...</td>\n",
       "      <td>25.38</td>\n",
       "      <td>17.33</td>\n",
       "      <td>184.60</td>\n",
       "      <td>2019.0</td>\n",
       "      <td>0.1622</td>\n",
       "      <td>0.66560</td>\n",
       "      <td>0.71190</td>\n",
       "      <td>0.26540</td>\n",
       "      <td>0.4601</td>\n",
       "      <td>0.11890</td>\n",
       "    </tr>\n",
       "    <tr>\n",
       "      <th>113</th>\n",
       "      <td>23.09</td>\n",
       "      <td>19.83</td>\n",
       "      <td>152.10</td>\n",
       "      <td>1682.0</td>\n",
       "      <td>0.09342</td>\n",
       "      <td>0.12750</td>\n",
       "      <td>0.16760</td>\n",
       "      <td>0.10030</td>\n",
       "      <td>0.1505</td>\n",
       "      <td>0.05484</td>\n",
       "      <td>...</td>\n",
       "      <td>30.79</td>\n",
       "      <td>23.87</td>\n",
       "      <td>211.50</td>\n",
       "      <td>2782.0</td>\n",
       "      <td>0.1199</td>\n",
       "      <td>0.36250</td>\n",
       "      <td>0.37940</td>\n",
       "      <td>0.22640</td>\n",
       "      <td>0.2908</td>\n",
       "      <td>0.07277</td>\n",
       "    </tr>\n",
       "  </tbody>\n",
       "</table>\n",
       "<p>114 rows × 30 columns</p>\n",
       "</div>"
      ],
      "text/plain": [
       "     radius_mean  texture_mean  perimeter_mean  area_mean  smoothness_mean  \\\n",
       "0          12.87         19.54           82.67      509.2          0.09136   \n",
       "1          17.19         22.07          111.60      928.3          0.09726   \n",
       "2          18.66         17.12          121.40     1077.0          0.10540   \n",
       "3          12.18         17.84           77.79      451.1          0.10450   \n",
       "4          20.94         23.56          138.90     1364.0          0.10070   \n",
       "..           ...           ...             ...        ...              ...   \n",
       "109        15.61         19.38          100.00      758.6          0.07840   \n",
       "110        16.46         20.11          109.30      832.9          0.09831   \n",
       "111        11.51         23.93           74.52      403.5          0.09261   \n",
       "112        17.99         10.38          122.80     1001.0          0.11840   \n",
       "113        23.09         19.83          152.10     1682.0          0.09342   \n",
       "\n",
       "     compactness_mean  concavity_mean  concave points_mean  symmetry_mean  \\\n",
       "0             0.07883         0.01797              0.02090         0.1861   \n",
       "1             0.08995         0.09061              0.06527         0.1867   \n",
       "2             0.11000         0.14570              0.08665         0.1966   \n",
       "3             0.07057         0.02490              0.02941         0.1900   \n",
       "4             0.16060         0.27120              0.13100         0.2205   \n",
       "..                ...             ...                  ...            ...   \n",
       "109           0.05616         0.04209              0.02847         0.1547   \n",
       "110           0.15560         0.17930              0.08866         0.1794   \n",
       "111           0.10210         0.11120              0.04105         0.1388   \n",
       "112           0.27760         0.30010              0.14710         0.2419   \n",
       "113           0.12750         0.16760              0.10030         0.1505   \n",
       "\n",
       "     fractal_dimension_mean  ...  radius_worst  texture_worst  \\\n",
       "0                   0.06347  ...         14.45          24.38   \n",
       "1                   0.05580  ...         21.58          29.33   \n",
       "2                   0.06213  ...         22.25          24.90   \n",
       "3                   0.06635  ...         12.83          20.92   \n",
       "4                   0.05898  ...         25.58          27.00   \n",
       "..                      ...  ...           ...            ...   \n",
       "109                 0.05443  ...         17.91          31.67   \n",
       "110                 0.06323  ...         17.79          28.45   \n",
       "111                 0.06570  ...         12.48          37.16   \n",
       "112                 0.07871  ...         25.38          17.33   \n",
       "113                 0.05484  ...         30.79          23.87   \n",
       "\n",
       "     perimeter_worst  area_worst  smoothness_worst  compactness_worst  \\\n",
       "0              95.14       626.9            0.1214            0.16520   \n",
       "1             140.50      1436.0            0.1558            0.25670   \n",
       "2             145.40      1549.0            0.1503            0.22910   \n",
       "3              82.14       495.2            0.1140            0.09358   \n",
       "4             165.30      2010.0            0.1211            0.31720   \n",
       "..               ...         ...               ...                ...   \n",
       "109           115.90       988.6            0.1084            0.18070   \n",
       "110           123.50       981.2            0.1415            0.46670   \n",
       "111            82.28       474.2            0.1298            0.25170   \n",
       "112           184.60      2019.0            0.1622            0.66560   \n",
       "113           211.50      2782.0            0.1199            0.36250   \n",
       "\n",
       "     concavity_worst  concave points_worst  symmetry_worst  \\\n",
       "0            0.07127               0.06384          0.3313   \n",
       "1            0.38890               0.19840          0.3216   \n",
       "2            0.32720               0.16740          0.2894   \n",
       "3            0.04980               0.05882          0.2227   \n",
       "4            0.69910               0.21050          0.3126   \n",
       "..               ...                   ...             ...   \n",
       "109          0.22600               0.08568          0.2683   \n",
       "110          0.58620               0.20350          0.3054   \n",
       "111          0.36300               0.09653          0.2112   \n",
       "112          0.71190               0.26540          0.4601   \n",
       "113          0.37940               0.22640          0.2908   \n",
       "\n",
       "     fractal_dimension_worst  \n",
       "0                    0.07735  \n",
       "1                    0.07570  \n",
       "2                    0.08456  \n",
       "3                    0.07376  \n",
       "4                    0.07849  \n",
       "..                       ...  \n",
       "109                  0.06829  \n",
       "110                  0.09519  \n",
       "111                  0.08732  \n",
       "112                  0.11890  \n",
       "113                  0.07277  \n",
       "\n",
       "[114 rows x 30 columns]"
      ]
     },
     "execution_count": 51,
     "metadata": {},
     "output_type": "execute_result"
    }
   ],
   "source": [
    "X_test = df_test.drop(columns = ['diagnosis'])\n",
    "X_test"
   ]
  },
  {
   "cell_type": "code",
   "execution_count": 52,
   "metadata": {},
   "outputs": [
    {
     "data": {
      "text/html": [
       "<div>\n",
       "<style scoped>\n",
       "    .dataframe tbody tr th:only-of-type {\n",
       "        vertical-align: middle;\n",
       "    }\n",
       "\n",
       "    .dataframe tbody tr th {\n",
       "        vertical-align: top;\n",
       "    }\n",
       "\n",
       "    .dataframe thead th {\n",
       "        text-align: right;\n",
       "    }\n",
       "</style>\n",
       "<table border=\"1\" class=\"dataframe\">\n",
       "  <thead>\n",
       "    <tr style=\"text-align: right;\">\n",
       "      <th></th>\n",
       "      <th>diagnosis</th>\n",
       "    </tr>\n",
       "  </thead>\n",
       "  <tbody>\n",
       "    <tr>\n",
       "      <th>0</th>\n",
       "      <td>B</td>\n",
       "    </tr>\n",
       "    <tr>\n",
       "      <th>1</th>\n",
       "      <td>M</td>\n",
       "    </tr>\n",
       "    <tr>\n",
       "      <th>2</th>\n",
       "      <td>M</td>\n",
       "    </tr>\n",
       "    <tr>\n",
       "      <th>3</th>\n",
       "      <td>B</td>\n",
       "    </tr>\n",
       "    <tr>\n",
       "      <th>4</th>\n",
       "      <td>M</td>\n",
       "    </tr>\n",
       "    <tr>\n",
       "      <th>...</th>\n",
       "      <td>...</td>\n",
       "    </tr>\n",
       "    <tr>\n",
       "      <th>109</th>\n",
       "      <td>M</td>\n",
       "    </tr>\n",
       "    <tr>\n",
       "      <th>110</th>\n",
       "      <td>M</td>\n",
       "    </tr>\n",
       "    <tr>\n",
       "      <th>111</th>\n",
       "      <td>B</td>\n",
       "    </tr>\n",
       "    <tr>\n",
       "      <th>112</th>\n",
       "      <td>M</td>\n",
       "    </tr>\n",
       "    <tr>\n",
       "      <th>113</th>\n",
       "      <td>M</td>\n",
       "    </tr>\n",
       "  </tbody>\n",
       "</table>\n",
       "<p>114 rows × 1 columns</p>\n",
       "</div>"
      ],
      "text/plain": [
       "    diagnosis\n",
       "0           B\n",
       "1           M\n",
       "2           M\n",
       "3           B\n",
       "4           M\n",
       "..        ...\n",
       "109         M\n",
       "110         M\n",
       "111         B\n",
       "112         M\n",
       "113         M\n",
       "\n",
       "[114 rows x 1 columns]"
      ]
     },
     "execution_count": 52,
     "metadata": {},
     "output_type": "execute_result"
    }
   ],
   "source": [
    "y_test = pd.DataFrame(df_test['diagnosis'], columns = ['diagnosis'])\n",
    "y_test"
   ]
  },
  {
   "cell_type": "markdown",
   "metadata": {},
   "source": [
    "#### Feature Scaling"
   ]
  },
  {
   "cell_type": "code",
   "execution_count": 53,
   "metadata": {},
   "outputs": [],
   "source": [
    "X_test = sc.transform(X_test)"
   ]
  },
  {
   "cell_type": "markdown",
   "metadata": {},
   "source": [
    "#### Predicting"
   ]
  },
  {
   "cell_type": "code",
   "execution_count": 54,
   "metadata": {},
   "outputs": [
    {
     "data": {
      "text/plain": [
       "array(['B', 'M', 'M', 'B', 'M', 'B', 'B', 'M', 'B', 'M', 'B', 'M', 'B',\n",
       "       'B', 'B', 'M', 'B', 'B', 'B', 'B', 'M', 'M', 'B', 'B', 'M', 'B',\n",
       "       'M', 'B', 'M', 'B', 'B', 'B', 'B', 'M', 'M', 'B', 'M', 'M', 'B',\n",
       "       'B', 'B', 'M', 'B', 'M', 'B', 'M', 'B', 'M', 'B', 'B', 'M', 'B',\n",
       "       'B', 'M', 'M', 'B', 'M', 'B', 'B', 'M', 'B', 'B', 'B', 'M', 'M',\n",
       "       'B', 'B', 'B', 'B', 'M', 'B', 'M', 'B', 'B', 'B', 'B', 'B', 'M',\n",
       "       'B', 'B', 'B', 'B', 'M', 'B', 'M', 'B', 'M', 'B', 'B', 'B', 'M',\n",
       "       'B', 'B', 'B', 'B', 'B', 'B', 'M', 'B', 'M', 'B', 'M', 'M', 'M',\n",
       "       'B', 'M', 'B', 'B', 'B', 'B', 'M', 'B', 'M', 'M'], dtype=object)"
      ]
     },
     "execution_count": 54,
     "metadata": {},
     "output_type": "execute_result"
    }
   ],
   "source": [
    "y_pred = classifier.predict(X_test)\n",
    "y_pred"
   ]
  },
  {
   "cell_type": "markdown",
   "metadata": {},
   "source": [
    "#### Comparing Predictions with the Actual"
   ]
  },
  {
   "cell_type": "code",
   "execution_count": 55,
   "metadata": {},
   "outputs": [
    {
     "data": {
      "text/html": [
       "<div>\n",
       "<style scoped>\n",
       "    .dataframe tbody tr th:only-of-type {\n",
       "        vertical-align: middle;\n",
       "    }\n",
       "\n",
       "    .dataframe tbody tr th {\n",
       "        vertical-align: top;\n",
       "    }\n",
       "\n",
       "    .dataframe thead th {\n",
       "        text-align: right;\n",
       "    }\n",
       "</style>\n",
       "<table border=\"1\" class=\"dataframe\">\n",
       "  <thead>\n",
       "    <tr style=\"text-align: right;\">\n",
       "      <th></th>\n",
       "      <th>y Actual</th>\n",
       "      <th>y Predicted</th>\n",
       "    </tr>\n",
       "  </thead>\n",
       "  <tbody>\n",
       "    <tr>\n",
       "      <th>0</th>\n",
       "      <td>B</td>\n",
       "      <td>B</td>\n",
       "    </tr>\n",
       "    <tr>\n",
       "      <th>1</th>\n",
       "      <td>M</td>\n",
       "      <td>M</td>\n",
       "    </tr>\n",
       "    <tr>\n",
       "      <th>2</th>\n",
       "      <td>M</td>\n",
       "      <td>M</td>\n",
       "    </tr>\n",
       "    <tr>\n",
       "      <th>3</th>\n",
       "      <td>B</td>\n",
       "      <td>B</td>\n",
       "    </tr>\n",
       "    <tr>\n",
       "      <th>4</th>\n",
       "      <td>M</td>\n",
       "      <td>M</td>\n",
       "    </tr>\n",
       "    <tr>\n",
       "      <th>...</th>\n",
       "      <td>...</td>\n",
       "      <td>...</td>\n",
       "    </tr>\n",
       "    <tr>\n",
       "      <th>109</th>\n",
       "      <td>M</td>\n",
       "      <td>B</td>\n",
       "    </tr>\n",
       "    <tr>\n",
       "      <th>110</th>\n",
       "      <td>M</td>\n",
       "      <td>M</td>\n",
       "    </tr>\n",
       "    <tr>\n",
       "      <th>111</th>\n",
       "      <td>B</td>\n",
       "      <td>B</td>\n",
       "    </tr>\n",
       "    <tr>\n",
       "      <th>112</th>\n",
       "      <td>M</td>\n",
       "      <td>M</td>\n",
       "    </tr>\n",
       "    <tr>\n",
       "      <th>113</th>\n",
       "      <td>M</td>\n",
       "      <td>M</td>\n",
       "    </tr>\n",
       "  </tbody>\n",
       "</table>\n",
       "<p>114 rows × 2 columns</p>\n",
       "</div>"
      ],
      "text/plain": [
       "    y Actual y Predicted\n",
       "0          B           B\n",
       "1          M           M\n",
       "2          M           M\n",
       "3          B           B\n",
       "4          M           M\n",
       "..       ...         ...\n",
       "109        M           B\n",
       "110        M           M\n",
       "111        B           B\n",
       "112        M           M\n",
       "113        M           M\n",
       "\n",
       "[114 rows x 2 columns]"
      ]
     },
     "execution_count": 55,
     "metadata": {},
     "output_type": "execute_result"
    }
   ],
   "source": [
    "y_pred = pd.DataFrame(y_pred, columns = ['y Predicted'])\n",
    "df_predictions = pd.concat([y_test, y_pred], axis = 1) \n",
    "df_predictions.columns = ['y Actual', 'y Predicted']\n",
    "df_predictions"
   ]
  },
  {
   "cell_type": "markdown",
   "metadata": {},
   "source": [
    "#### Counting Malignant and Benign Occurence in the Actual and Predicted Datasets"
   ]
  },
  {
   "cell_type": "code",
   "execution_count": 56,
   "metadata": {},
   "outputs": [
    {
     "data": {
      "text/html": [
       "<div>\n",
       "<style scoped>\n",
       "    .dataframe tbody tr th:only-of-type {\n",
       "        vertical-align: middle;\n",
       "    }\n",
       "\n",
       "    .dataframe tbody tr th {\n",
       "        vertical-align: top;\n",
       "    }\n",
       "\n",
       "    .dataframe thead th {\n",
       "        text-align: right;\n",
       "    }\n",
       "</style>\n",
       "<table border=\"1\" class=\"dataframe\">\n",
       "  <thead>\n",
       "    <tr style=\"text-align: right;\">\n",
       "      <th></th>\n",
       "      <th>y Actual Value</th>\n",
       "      <th>y Actual Count</th>\n",
       "      <th>y Predicted Value</th>\n",
       "      <th>y Predicted Count</th>\n",
       "    </tr>\n",
       "  </thead>\n",
       "  <tbody>\n",
       "    <tr>\n",
       "      <th>0</th>\n",
       "      <td>B</td>\n",
       "      <td>68</td>\n",
       "      <td>B</td>\n",
       "      <td>71</td>\n",
       "    </tr>\n",
       "    <tr>\n",
       "      <th>1</th>\n",
       "      <td>M</td>\n",
       "      <td>46</td>\n",
       "      <td>M</td>\n",
       "      <td>43</td>\n",
       "    </tr>\n",
       "  </tbody>\n",
       "</table>\n",
       "</div>"
      ],
      "text/plain": [
       "  y Actual Value  y Actual Count y Predicted Value  y Predicted Count\n",
       "0              B              68                 B                 71\n",
       "1              M              46                 M                 43"
      ]
     },
     "execution_count": 56,
     "metadata": {},
     "output_type": "execute_result"
    }
   ],
   "source": [
    "df_counts_a = df_predictions['y Actual'].value_counts().reset_index()\n",
    "df_counts_p = df_predictions['y Predicted'].value_counts().reset_index()\n",
    "df_counts = pd.concat([df_counts_a, df_counts_p], axis = 1)\n",
    "df_counts.columns = ['y Actual Value', 'y Actual Count', 'y Predicted Value', 'y Predicted Count']\n",
    "df_counts\n"
   ]
  },
  {
   "cell_type": "markdown",
   "metadata": {},
   "source": [
    "#### Visual Comparisons"
   ]
  },
  {
   "cell_type": "code",
   "execution_count": 57,
   "metadata": {},
   "outputs": [
    {
     "data": {
      "application/vnd.plotly.v1+json": {
       "config": {
        "plotlyServerURL": "https://plot.ly"
       },
       "data": [
        {
         "marker": {
          "color": "indianred"
         },
         "name": "y Actual",
         "type": "bar",
         "x": [
          "Benign",
          "Malignant"
         ],
         "y": [
          68,
          46
         ]
        },
        {
         "marker": {
          "color": "lightsalmon"
         },
         "name": "y Predicted",
         "type": "bar",
         "x": [
          "Benign",
          "Malignant"
         ],
         "y": [
          71,
          43
         ]
        }
       ],
       "layout": {
        "barmode": "group",
        "template": {
         "data": {
          "bar": [
           {
            "error_x": {
             "color": "#2a3f5f"
            },
            "error_y": {
             "color": "#2a3f5f"
            },
            "marker": {
             "line": {
              "color": "#E5ECF6",
              "width": 0.5
             },
             "pattern": {
              "fillmode": "overlay",
              "size": 10,
              "solidity": 0.2
             }
            },
            "type": "bar"
           }
          ],
          "barpolar": [
           {
            "marker": {
             "line": {
              "color": "#E5ECF6",
              "width": 0.5
             },
             "pattern": {
              "fillmode": "overlay",
              "size": 10,
              "solidity": 0.2
             }
            },
            "type": "barpolar"
           }
          ],
          "carpet": [
           {
            "aaxis": {
             "endlinecolor": "#2a3f5f",
             "gridcolor": "white",
             "linecolor": "white",
             "minorgridcolor": "white",
             "startlinecolor": "#2a3f5f"
            },
            "baxis": {
             "endlinecolor": "#2a3f5f",
             "gridcolor": "white",
             "linecolor": "white",
             "minorgridcolor": "white",
             "startlinecolor": "#2a3f5f"
            },
            "type": "carpet"
           }
          ],
          "choropleth": [
           {
            "colorbar": {
             "outlinewidth": 0,
             "ticks": ""
            },
            "type": "choropleth"
           }
          ],
          "contour": [
           {
            "colorbar": {
             "outlinewidth": 0,
             "ticks": ""
            },
            "colorscale": [
             [
              0,
              "#0d0887"
             ],
             [
              0.1111111111111111,
              "#46039f"
             ],
             [
              0.2222222222222222,
              "#7201a8"
             ],
             [
              0.3333333333333333,
              "#9c179e"
             ],
             [
              0.4444444444444444,
              "#bd3786"
             ],
             [
              0.5555555555555556,
              "#d8576b"
             ],
             [
              0.6666666666666666,
              "#ed7953"
             ],
             [
              0.7777777777777778,
              "#fb9f3a"
             ],
             [
              0.8888888888888888,
              "#fdca26"
             ],
             [
              1,
              "#f0f921"
             ]
            ],
            "type": "contour"
           }
          ],
          "contourcarpet": [
           {
            "colorbar": {
             "outlinewidth": 0,
             "ticks": ""
            },
            "type": "contourcarpet"
           }
          ],
          "heatmap": [
           {
            "colorbar": {
             "outlinewidth": 0,
             "ticks": ""
            },
            "colorscale": [
             [
              0,
              "#0d0887"
             ],
             [
              0.1111111111111111,
              "#46039f"
             ],
             [
              0.2222222222222222,
              "#7201a8"
             ],
             [
              0.3333333333333333,
              "#9c179e"
             ],
             [
              0.4444444444444444,
              "#bd3786"
             ],
             [
              0.5555555555555556,
              "#d8576b"
             ],
             [
              0.6666666666666666,
              "#ed7953"
             ],
             [
              0.7777777777777778,
              "#fb9f3a"
             ],
             [
              0.8888888888888888,
              "#fdca26"
             ],
             [
              1,
              "#f0f921"
             ]
            ],
            "type": "heatmap"
           }
          ],
          "heatmapgl": [
           {
            "colorbar": {
             "outlinewidth": 0,
             "ticks": ""
            },
            "colorscale": [
             [
              0,
              "#0d0887"
             ],
             [
              0.1111111111111111,
              "#46039f"
             ],
             [
              0.2222222222222222,
              "#7201a8"
             ],
             [
              0.3333333333333333,
              "#9c179e"
             ],
             [
              0.4444444444444444,
              "#bd3786"
             ],
             [
              0.5555555555555556,
              "#d8576b"
             ],
             [
              0.6666666666666666,
              "#ed7953"
             ],
             [
              0.7777777777777778,
              "#fb9f3a"
             ],
             [
              0.8888888888888888,
              "#fdca26"
             ],
             [
              1,
              "#f0f921"
             ]
            ],
            "type": "heatmapgl"
           }
          ],
          "histogram": [
           {
            "marker": {
             "pattern": {
              "fillmode": "overlay",
              "size": 10,
              "solidity": 0.2
             }
            },
            "type": "histogram"
           }
          ],
          "histogram2d": [
           {
            "colorbar": {
             "outlinewidth": 0,
             "ticks": ""
            },
            "colorscale": [
             [
              0,
              "#0d0887"
             ],
             [
              0.1111111111111111,
              "#46039f"
             ],
             [
              0.2222222222222222,
              "#7201a8"
             ],
             [
              0.3333333333333333,
              "#9c179e"
             ],
             [
              0.4444444444444444,
              "#bd3786"
             ],
             [
              0.5555555555555556,
              "#d8576b"
             ],
             [
              0.6666666666666666,
              "#ed7953"
             ],
             [
              0.7777777777777778,
              "#fb9f3a"
             ],
             [
              0.8888888888888888,
              "#fdca26"
             ],
             [
              1,
              "#f0f921"
             ]
            ],
            "type": "histogram2d"
           }
          ],
          "histogram2dcontour": [
           {
            "colorbar": {
             "outlinewidth": 0,
             "ticks": ""
            },
            "colorscale": [
             [
              0,
              "#0d0887"
             ],
             [
              0.1111111111111111,
              "#46039f"
             ],
             [
              0.2222222222222222,
              "#7201a8"
             ],
             [
              0.3333333333333333,
              "#9c179e"
             ],
             [
              0.4444444444444444,
              "#bd3786"
             ],
             [
              0.5555555555555556,
              "#d8576b"
             ],
             [
              0.6666666666666666,
              "#ed7953"
             ],
             [
              0.7777777777777778,
              "#fb9f3a"
             ],
             [
              0.8888888888888888,
              "#fdca26"
             ],
             [
              1,
              "#f0f921"
             ]
            ],
            "type": "histogram2dcontour"
           }
          ],
          "mesh3d": [
           {
            "colorbar": {
             "outlinewidth": 0,
             "ticks": ""
            },
            "type": "mesh3d"
           }
          ],
          "parcoords": [
           {
            "line": {
             "colorbar": {
              "outlinewidth": 0,
              "ticks": ""
             }
            },
            "type": "parcoords"
           }
          ],
          "pie": [
           {
            "automargin": true,
            "type": "pie"
           }
          ],
          "scatter": [
           {
            "fillpattern": {
             "fillmode": "overlay",
             "size": 10,
             "solidity": 0.2
            },
            "type": "scatter"
           }
          ],
          "scatter3d": [
           {
            "line": {
             "colorbar": {
              "outlinewidth": 0,
              "ticks": ""
             }
            },
            "marker": {
             "colorbar": {
              "outlinewidth": 0,
              "ticks": ""
             }
            },
            "type": "scatter3d"
           }
          ],
          "scattercarpet": [
           {
            "marker": {
             "colorbar": {
              "outlinewidth": 0,
              "ticks": ""
             }
            },
            "type": "scattercarpet"
           }
          ],
          "scattergeo": [
           {
            "marker": {
             "colorbar": {
              "outlinewidth": 0,
              "ticks": ""
             }
            },
            "type": "scattergeo"
           }
          ],
          "scattergl": [
           {
            "marker": {
             "colorbar": {
              "outlinewidth": 0,
              "ticks": ""
             }
            },
            "type": "scattergl"
           }
          ],
          "scattermapbox": [
           {
            "marker": {
             "colorbar": {
              "outlinewidth": 0,
              "ticks": ""
             }
            },
            "type": "scattermapbox"
           }
          ],
          "scatterpolar": [
           {
            "marker": {
             "colorbar": {
              "outlinewidth": 0,
              "ticks": ""
             }
            },
            "type": "scatterpolar"
           }
          ],
          "scatterpolargl": [
           {
            "marker": {
             "colorbar": {
              "outlinewidth": 0,
              "ticks": ""
             }
            },
            "type": "scatterpolargl"
           }
          ],
          "scatterternary": [
           {
            "marker": {
             "colorbar": {
              "outlinewidth": 0,
              "ticks": ""
             }
            },
            "type": "scatterternary"
           }
          ],
          "surface": [
           {
            "colorbar": {
             "outlinewidth": 0,
             "ticks": ""
            },
            "colorscale": [
             [
              0,
              "#0d0887"
             ],
             [
              0.1111111111111111,
              "#46039f"
             ],
             [
              0.2222222222222222,
              "#7201a8"
             ],
             [
              0.3333333333333333,
              "#9c179e"
             ],
             [
              0.4444444444444444,
              "#bd3786"
             ],
             [
              0.5555555555555556,
              "#d8576b"
             ],
             [
              0.6666666666666666,
              "#ed7953"
             ],
             [
              0.7777777777777778,
              "#fb9f3a"
             ],
             [
              0.8888888888888888,
              "#fdca26"
             ],
             [
              1,
              "#f0f921"
             ]
            ],
            "type": "surface"
           }
          ],
          "table": [
           {
            "cells": {
             "fill": {
              "color": "#EBF0F8"
             },
             "line": {
              "color": "white"
             }
            },
            "header": {
             "fill": {
              "color": "#C8D4E3"
             },
             "line": {
              "color": "white"
             }
            },
            "type": "table"
           }
          ]
         },
         "layout": {
          "annotationdefaults": {
           "arrowcolor": "#2a3f5f",
           "arrowhead": 0,
           "arrowwidth": 1
          },
          "autotypenumbers": "strict",
          "coloraxis": {
           "colorbar": {
            "outlinewidth": 0,
            "ticks": ""
           }
          },
          "colorscale": {
           "diverging": [
            [
             0,
             "#8e0152"
            ],
            [
             0.1,
             "#c51b7d"
            ],
            [
             0.2,
             "#de77ae"
            ],
            [
             0.3,
             "#f1b6da"
            ],
            [
             0.4,
             "#fde0ef"
            ],
            [
             0.5,
             "#f7f7f7"
            ],
            [
             0.6,
             "#e6f5d0"
            ],
            [
             0.7,
             "#b8e186"
            ],
            [
             0.8,
             "#7fbc41"
            ],
            [
             0.9,
             "#4d9221"
            ],
            [
             1,
             "#276419"
            ]
           ],
           "sequential": [
            [
             0,
             "#0d0887"
            ],
            [
             0.1111111111111111,
             "#46039f"
            ],
            [
             0.2222222222222222,
             "#7201a8"
            ],
            [
             0.3333333333333333,
             "#9c179e"
            ],
            [
             0.4444444444444444,
             "#bd3786"
            ],
            [
             0.5555555555555556,
             "#d8576b"
            ],
            [
             0.6666666666666666,
             "#ed7953"
            ],
            [
             0.7777777777777778,
             "#fb9f3a"
            ],
            [
             0.8888888888888888,
             "#fdca26"
            ],
            [
             1,
             "#f0f921"
            ]
           ],
           "sequentialminus": [
            [
             0,
             "#0d0887"
            ],
            [
             0.1111111111111111,
             "#46039f"
            ],
            [
             0.2222222222222222,
             "#7201a8"
            ],
            [
             0.3333333333333333,
             "#9c179e"
            ],
            [
             0.4444444444444444,
             "#bd3786"
            ],
            [
             0.5555555555555556,
             "#d8576b"
            ],
            [
             0.6666666666666666,
             "#ed7953"
            ],
            [
             0.7777777777777778,
             "#fb9f3a"
            ],
            [
             0.8888888888888888,
             "#fdca26"
            ],
            [
             1,
             "#f0f921"
            ]
           ]
          },
          "colorway": [
           "#636efa",
           "#EF553B",
           "#00cc96",
           "#ab63fa",
           "#FFA15A",
           "#19d3f3",
           "#FF6692",
           "#B6E880",
           "#FF97FF",
           "#FECB52"
          ],
          "font": {
           "color": "#2a3f5f"
          },
          "geo": {
           "bgcolor": "white",
           "lakecolor": "white",
           "landcolor": "#E5ECF6",
           "showlakes": true,
           "showland": true,
           "subunitcolor": "white"
          },
          "hoverlabel": {
           "align": "left"
          },
          "hovermode": "closest",
          "mapbox": {
           "style": "light"
          },
          "paper_bgcolor": "white",
          "plot_bgcolor": "#E5ECF6",
          "polar": {
           "angularaxis": {
            "gridcolor": "white",
            "linecolor": "white",
            "ticks": ""
           },
           "bgcolor": "#E5ECF6",
           "radialaxis": {
            "gridcolor": "white",
            "linecolor": "white",
            "ticks": ""
           }
          },
          "scene": {
           "xaxis": {
            "backgroundcolor": "#E5ECF6",
            "gridcolor": "white",
            "gridwidth": 2,
            "linecolor": "white",
            "showbackground": true,
            "ticks": "",
            "zerolinecolor": "white"
           },
           "yaxis": {
            "backgroundcolor": "#E5ECF6",
            "gridcolor": "white",
            "gridwidth": 2,
            "linecolor": "white",
            "showbackground": true,
            "ticks": "",
            "zerolinecolor": "white"
           },
           "zaxis": {
            "backgroundcolor": "#E5ECF6",
            "gridcolor": "white",
            "gridwidth": 2,
            "linecolor": "white",
            "showbackground": true,
            "ticks": "",
            "zerolinecolor": "white"
           }
          },
          "shapedefaults": {
           "line": {
            "color": "#2a3f5f"
           }
          },
          "ternary": {
           "aaxis": {
            "gridcolor": "white",
            "linecolor": "white",
            "ticks": ""
           },
           "baxis": {
            "gridcolor": "white",
            "linecolor": "white",
            "ticks": ""
           },
           "bgcolor": "#E5ECF6",
           "caxis": {
            "gridcolor": "white",
            "linecolor": "white",
            "ticks": ""
           }
          },
          "title": {
           "x": 0.05
          },
          "xaxis": {
           "automargin": true,
           "gridcolor": "white",
           "linecolor": "white",
           "ticks": "",
           "title": {
            "standoff": 15
           },
           "zerolinecolor": "white",
           "zerolinewidth": 2
          },
          "yaxis": {
           "automargin": true,
           "gridcolor": "white",
           "linecolor": "white",
           "ticks": "",
           "title": {
            "standoff": 15
           },
           "zerolinecolor": "white",
           "zerolinewidth": 2
          }
         }
        },
        "title": {
         "text": "y Actual vs y Predicted"
        },
        "xaxis": {
         "tickangle": -45
        },
        "yaxis": {
         "title": {
          "text": "Count"
         }
        }
       }
      },
      "text/html": [
       "<div>                            <div id=\"0b69a879-d1b1-40fd-8bf1-2a50a10e69e1\" class=\"plotly-graph-div\" style=\"height:525px; width:100%;\"></div>            <script type=\"text/javascript\">                require([\"plotly\"], function(Plotly) {                    window.PLOTLYENV=window.PLOTLYENV || {};                                    if (document.getElementById(\"0b69a879-d1b1-40fd-8bf1-2a50a10e69e1\")) {                    Plotly.newPlot(                        \"0b69a879-d1b1-40fd-8bf1-2a50a10e69e1\",                        [{\"marker\":{\"color\":\"indianred\"},\"name\":\"y Actual\",\"x\":[\"Benign\",\"Malignant\"],\"y\":[68,46],\"type\":\"bar\"},{\"marker\":{\"color\":\"lightsalmon\"},\"name\":\"y Predicted\",\"x\":[\"Benign\",\"Malignant\"],\"y\":[71,43],\"type\":\"bar\"}],                        {\"template\":{\"data\":{\"histogram2dcontour\":[{\"type\":\"histogram2dcontour\",\"colorbar\":{\"outlinewidth\":0,\"ticks\":\"\"},\"colorscale\":[[0.0,\"#0d0887\"],[0.1111111111111111,\"#46039f\"],[0.2222222222222222,\"#7201a8\"],[0.3333333333333333,\"#9c179e\"],[0.4444444444444444,\"#bd3786\"],[0.5555555555555556,\"#d8576b\"],[0.6666666666666666,\"#ed7953\"],[0.7777777777777778,\"#fb9f3a\"],[0.8888888888888888,\"#fdca26\"],[1.0,\"#f0f921\"]]}],\"choropleth\":[{\"type\":\"choropleth\",\"colorbar\":{\"outlinewidth\":0,\"ticks\":\"\"}}],\"histogram2d\":[{\"type\":\"histogram2d\",\"colorbar\":{\"outlinewidth\":0,\"ticks\":\"\"},\"colorscale\":[[0.0,\"#0d0887\"],[0.1111111111111111,\"#46039f\"],[0.2222222222222222,\"#7201a8\"],[0.3333333333333333,\"#9c179e\"],[0.4444444444444444,\"#bd3786\"],[0.5555555555555556,\"#d8576b\"],[0.6666666666666666,\"#ed7953\"],[0.7777777777777778,\"#fb9f3a\"],[0.8888888888888888,\"#fdca26\"],[1.0,\"#f0f921\"]]}],\"heatmap\":[{\"type\":\"heatmap\",\"colorbar\":{\"outlinewidth\":0,\"ticks\":\"\"},\"colorscale\":[[0.0,\"#0d0887\"],[0.1111111111111111,\"#46039f\"],[0.2222222222222222,\"#7201a8\"],[0.3333333333333333,\"#9c179e\"],[0.4444444444444444,\"#bd3786\"],[0.5555555555555556,\"#d8576b\"],[0.6666666666666666,\"#ed7953\"],[0.7777777777777778,\"#fb9f3a\"],[0.8888888888888888,\"#fdca26\"],[1.0,\"#f0f921\"]]}],\"heatmapgl\":[{\"type\":\"heatmapgl\",\"colorbar\":{\"outlinewidth\":0,\"ticks\":\"\"},\"colorscale\":[[0.0,\"#0d0887\"],[0.1111111111111111,\"#46039f\"],[0.2222222222222222,\"#7201a8\"],[0.3333333333333333,\"#9c179e\"],[0.4444444444444444,\"#bd3786\"],[0.5555555555555556,\"#d8576b\"],[0.6666666666666666,\"#ed7953\"],[0.7777777777777778,\"#fb9f3a\"],[0.8888888888888888,\"#fdca26\"],[1.0,\"#f0f921\"]]}],\"contourcarpet\":[{\"type\":\"contourcarpet\",\"colorbar\":{\"outlinewidth\":0,\"ticks\":\"\"}}],\"contour\":[{\"type\":\"contour\",\"colorbar\":{\"outlinewidth\":0,\"ticks\":\"\"},\"colorscale\":[[0.0,\"#0d0887\"],[0.1111111111111111,\"#46039f\"],[0.2222222222222222,\"#7201a8\"],[0.3333333333333333,\"#9c179e\"],[0.4444444444444444,\"#bd3786\"],[0.5555555555555556,\"#d8576b\"],[0.6666666666666666,\"#ed7953\"],[0.7777777777777778,\"#fb9f3a\"],[0.8888888888888888,\"#fdca26\"],[1.0,\"#f0f921\"]]}],\"surface\":[{\"type\":\"surface\",\"colorbar\":{\"outlinewidth\":0,\"ticks\":\"\"},\"colorscale\":[[0.0,\"#0d0887\"],[0.1111111111111111,\"#46039f\"],[0.2222222222222222,\"#7201a8\"],[0.3333333333333333,\"#9c179e\"],[0.4444444444444444,\"#bd3786\"],[0.5555555555555556,\"#d8576b\"],[0.6666666666666666,\"#ed7953\"],[0.7777777777777778,\"#fb9f3a\"],[0.8888888888888888,\"#fdca26\"],[1.0,\"#f0f921\"]]}],\"mesh3d\":[{\"type\":\"mesh3d\",\"colorbar\":{\"outlinewidth\":0,\"ticks\":\"\"}}],\"scatter\":[{\"fillpattern\":{\"fillmode\":\"overlay\",\"size\":10,\"solidity\":0.2},\"type\":\"scatter\"}],\"parcoords\":[{\"type\":\"parcoords\",\"line\":{\"colorbar\":{\"outlinewidth\":0,\"ticks\":\"\"}}}],\"scatterpolargl\":[{\"type\":\"scatterpolargl\",\"marker\":{\"colorbar\":{\"outlinewidth\":0,\"ticks\":\"\"}}}],\"bar\":[{\"error_x\":{\"color\":\"#2a3f5f\"},\"error_y\":{\"color\":\"#2a3f5f\"},\"marker\":{\"line\":{\"color\":\"#E5ECF6\",\"width\":0.5},\"pattern\":{\"fillmode\":\"overlay\",\"size\":10,\"solidity\":0.2}},\"type\":\"bar\"}],\"scattergeo\":[{\"type\":\"scattergeo\",\"marker\":{\"colorbar\":{\"outlinewidth\":0,\"ticks\":\"\"}}}],\"scatterpolar\":[{\"type\":\"scatterpolar\",\"marker\":{\"colorbar\":{\"outlinewidth\":0,\"ticks\":\"\"}}}],\"histogram\":[{\"marker\":{\"pattern\":{\"fillmode\":\"overlay\",\"size\":10,\"solidity\":0.2}},\"type\":\"histogram\"}],\"scattergl\":[{\"type\":\"scattergl\",\"marker\":{\"colorbar\":{\"outlinewidth\":0,\"ticks\":\"\"}}}],\"scatter3d\":[{\"type\":\"scatter3d\",\"line\":{\"colorbar\":{\"outlinewidth\":0,\"ticks\":\"\"}},\"marker\":{\"colorbar\":{\"outlinewidth\":0,\"ticks\":\"\"}}}],\"scattermapbox\":[{\"type\":\"scattermapbox\",\"marker\":{\"colorbar\":{\"outlinewidth\":0,\"ticks\":\"\"}}}],\"scatterternary\":[{\"type\":\"scatterternary\",\"marker\":{\"colorbar\":{\"outlinewidth\":0,\"ticks\":\"\"}}}],\"scattercarpet\":[{\"type\":\"scattercarpet\",\"marker\":{\"colorbar\":{\"outlinewidth\":0,\"ticks\":\"\"}}}],\"carpet\":[{\"aaxis\":{\"endlinecolor\":\"#2a3f5f\",\"gridcolor\":\"white\",\"linecolor\":\"white\",\"minorgridcolor\":\"white\",\"startlinecolor\":\"#2a3f5f\"},\"baxis\":{\"endlinecolor\":\"#2a3f5f\",\"gridcolor\":\"white\",\"linecolor\":\"white\",\"minorgridcolor\":\"white\",\"startlinecolor\":\"#2a3f5f\"},\"type\":\"carpet\"}],\"table\":[{\"cells\":{\"fill\":{\"color\":\"#EBF0F8\"},\"line\":{\"color\":\"white\"}},\"header\":{\"fill\":{\"color\":\"#C8D4E3\"},\"line\":{\"color\":\"white\"}},\"type\":\"table\"}],\"barpolar\":[{\"marker\":{\"line\":{\"color\":\"#E5ECF6\",\"width\":0.5},\"pattern\":{\"fillmode\":\"overlay\",\"size\":10,\"solidity\":0.2}},\"type\":\"barpolar\"}],\"pie\":[{\"automargin\":true,\"type\":\"pie\"}]},\"layout\":{\"autotypenumbers\":\"strict\",\"colorway\":[\"#636efa\",\"#EF553B\",\"#00cc96\",\"#ab63fa\",\"#FFA15A\",\"#19d3f3\",\"#FF6692\",\"#B6E880\",\"#FF97FF\",\"#FECB52\"],\"font\":{\"color\":\"#2a3f5f\"},\"hovermode\":\"closest\",\"hoverlabel\":{\"align\":\"left\"},\"paper_bgcolor\":\"white\",\"plot_bgcolor\":\"#E5ECF6\",\"polar\":{\"bgcolor\":\"#E5ECF6\",\"angularaxis\":{\"gridcolor\":\"white\",\"linecolor\":\"white\",\"ticks\":\"\"},\"radialaxis\":{\"gridcolor\":\"white\",\"linecolor\":\"white\",\"ticks\":\"\"}},\"ternary\":{\"bgcolor\":\"#E5ECF6\",\"aaxis\":{\"gridcolor\":\"white\",\"linecolor\":\"white\",\"ticks\":\"\"},\"baxis\":{\"gridcolor\":\"white\",\"linecolor\":\"white\",\"ticks\":\"\"},\"caxis\":{\"gridcolor\":\"white\",\"linecolor\":\"white\",\"ticks\":\"\"}},\"coloraxis\":{\"colorbar\":{\"outlinewidth\":0,\"ticks\":\"\"}},\"colorscale\":{\"sequential\":[[0.0,\"#0d0887\"],[0.1111111111111111,\"#46039f\"],[0.2222222222222222,\"#7201a8\"],[0.3333333333333333,\"#9c179e\"],[0.4444444444444444,\"#bd3786\"],[0.5555555555555556,\"#d8576b\"],[0.6666666666666666,\"#ed7953\"],[0.7777777777777778,\"#fb9f3a\"],[0.8888888888888888,\"#fdca26\"],[1.0,\"#f0f921\"]],\"sequentialminus\":[[0.0,\"#0d0887\"],[0.1111111111111111,\"#46039f\"],[0.2222222222222222,\"#7201a8\"],[0.3333333333333333,\"#9c179e\"],[0.4444444444444444,\"#bd3786\"],[0.5555555555555556,\"#d8576b\"],[0.6666666666666666,\"#ed7953\"],[0.7777777777777778,\"#fb9f3a\"],[0.8888888888888888,\"#fdca26\"],[1.0,\"#f0f921\"]],\"diverging\":[[0,\"#8e0152\"],[0.1,\"#c51b7d\"],[0.2,\"#de77ae\"],[0.3,\"#f1b6da\"],[0.4,\"#fde0ef\"],[0.5,\"#f7f7f7\"],[0.6,\"#e6f5d0\"],[0.7,\"#b8e186\"],[0.8,\"#7fbc41\"],[0.9,\"#4d9221\"],[1,\"#276419\"]]},\"xaxis\":{\"gridcolor\":\"white\",\"linecolor\":\"white\",\"ticks\":\"\",\"title\":{\"standoff\":15},\"zerolinecolor\":\"white\",\"automargin\":true,\"zerolinewidth\":2},\"yaxis\":{\"gridcolor\":\"white\",\"linecolor\":\"white\",\"ticks\":\"\",\"title\":{\"standoff\":15},\"zerolinecolor\":\"white\",\"automargin\":true,\"zerolinewidth\":2},\"scene\":{\"xaxis\":{\"backgroundcolor\":\"#E5ECF6\",\"gridcolor\":\"white\",\"linecolor\":\"white\",\"showbackground\":true,\"ticks\":\"\",\"zerolinecolor\":\"white\",\"gridwidth\":2},\"yaxis\":{\"backgroundcolor\":\"#E5ECF6\",\"gridcolor\":\"white\",\"linecolor\":\"white\",\"showbackground\":true,\"ticks\":\"\",\"zerolinecolor\":\"white\",\"gridwidth\":2},\"zaxis\":{\"backgroundcolor\":\"#E5ECF6\",\"gridcolor\":\"white\",\"linecolor\":\"white\",\"showbackground\":true,\"ticks\":\"\",\"zerolinecolor\":\"white\",\"gridwidth\":2}},\"shapedefaults\":{\"line\":{\"color\":\"#2a3f5f\"}},\"annotationdefaults\":{\"arrowcolor\":\"#2a3f5f\",\"arrowhead\":0,\"arrowwidth\":1},\"geo\":{\"bgcolor\":\"white\",\"landcolor\":\"#E5ECF6\",\"subunitcolor\":\"white\",\"showland\":true,\"showlakes\":true,\"lakecolor\":\"white\"},\"title\":{\"x\":0.05},\"mapbox\":{\"style\":\"light\"}}},\"xaxis\":{\"tickangle\":-45},\"title\":{\"text\":\"y Actual vs y Predicted\"},\"yaxis\":{\"title\":{\"text\":\"Count\"}},\"barmode\":\"group\"},                        {\"responsive\": true}                    ).then(function(){\n",
       "                            \n",
       "var gd = document.getElementById('0b69a879-d1b1-40fd-8bf1-2a50a10e69e1');\n",
       "var x = new MutationObserver(function (mutations, observer) {{\n",
       "        var display = window.getComputedStyle(gd).display;\n",
       "        if (!display || display === 'none') {{\n",
       "            console.log([gd, 'removed!']);\n",
       "            Plotly.purge(gd);\n",
       "            observer.disconnect();\n",
       "        }}\n",
       "}});\n",
       "\n",
       "// Listen for the removal of the full notebook cells\n",
       "var notebookContainer = gd.closest('#notebook-container');\n",
       "if (notebookContainer) {{\n",
       "    x.observe(notebookContainer, {childList: true});\n",
       "}}\n",
       "\n",
       "// Listen for the clearing of the current output cell\n",
       "var outputEl = gd.closest('.output');\n",
       "if (outputEl) {{\n",
       "    x.observe(outputEl, {childList: true});\n",
       "}}\n",
       "\n",
       "                        })                };                });            </script>        </div>"
      ]
     },
     "metadata": {},
     "output_type": "display_data"
    }
   ],
   "source": [
    "import plotly.graph_objects as go\n",
    "\n",
    "samples = ['Benign', 'Malignant']\n",
    "\n",
    "fig = go.Figure()\n",
    "\n",
    "fig.add_trace(go.Bar(\n",
    "    x = samples,\n",
    "    y = df_counts['y Actual Count'],\n",
    "    name = 'y Actual',\n",
    "    marker_color= 'indianred'\n",
    "))\n",
    "\n",
    "fig.add_trace(go.Bar(\n",
    "    x = samples,\n",
    "    y = df_counts['y Predicted Count'],\n",
    "    name = 'y Predicted',\n",
    "    marker_color = 'lightsalmon'\n",
    "))\n",
    "\n",
    "fig.update_layout(\n",
    "    title=\"y Actual vs y Predicted\",\n",
    "    yaxis_title = 'Count',\n",
    "    barmode='group', \n",
    "    xaxis_tickangle=-45\n",
    ")\n",
    "\n",
    "fig.show()"
   ]
  },
  {
   "cell_type": "markdown",
   "metadata": {},
   "source": [
    "#### Confusion Matrix & Metrics"
   ]
  },
  {
   "cell_type": "code",
   "execution_count": 58,
   "metadata": {},
   "outputs": [
    {
     "name": "stdout",
     "output_type": "stream",
     "text": [
      "F1 Score:  [0.97841727 0.96629213]\n",
      "Precison:  [0.95774648 1.        ]\n",
      "Recall:  [1.         0.93478261]\n",
      "Accuracy:  0.9736842105263158\n"
     ]
    },
    {
     "data": {
      "image/png": "[encoded data removed]",
      "text/plain": [
       "<Figure size 640x480 with 2 Axes>"
      ]
     },
     "metadata": {},
     "output_type": "display_data"
    }
   ],
   "source": [
    "from sklearn.metrics import confusion_matrix, accuracy_score, f1_score, precision_score, recall_score\n",
    "import seaborn as sns\n",
    "\n",
    "cm = confusion_matrix(y_test, y_pred)\n",
    "sns.heatmap(cm, annot=True)\n",
    "\n",
    "print('F1 Score: ', f1_score(y_test, y_pred, average = None))\n",
    "print('Precison: ', precision_score(y_test, y_pred, average = None))\n",
    "print('Recall: ', recall_score(y_test, y_pred, average=None))\n",
    "print('Accuracy: ', accuracy_score(y_test, y_pred))"
   ]
  },
  {
   "cell_type": "code",
   "execution_count": null,
   "metadata": {},
   "outputs": [],
   "source": []
  }
 ],
 "metadata": {
  "kernelspec": {
   "display_name": "Python 3 (ipykernel)",
   "language": "python",
   "name": "python3"
  },
  "language_info": {
   "codemirror_mode": {
    "name": "ipython",
    "version": 3
   },
   "file_extension": ".py",
   "mimetype": "text/x-python",
   "name": "python",
   "nbconvert_exporter": "python",
   "pygments_lexer": "ipython3",
   "version": "3.9.13"
  }
 },
 "nbformat": 4,
 "nbformat_minor": 2
}
