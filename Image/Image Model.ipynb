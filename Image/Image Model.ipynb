{
 "cells": [
  {
   "attachments": {},
   "cell_type": "markdown",
   "metadata": {},
   "source": [
    "# **BMEN 415 - Final Project**\n",
    "**Challenge Model: Convolutional Neural Network**\n",
    "\n",
    "Nitya Shah"
   ]
  },
  {
   "attachments": {},
   "cell_type": "markdown",
   "metadata": {},
   "source": [
    "#### Importing the Libraries"
   ]
  },
  {
   "cell_type": "code",
   "execution_count": 72,
   "metadata": {},
   "outputs": [],
   "source": [
    "import pandas as pd\n",
    "import numpy as np\n",
    "import os\n",
    "import matplotlib.pyplot as plt\n",
    "import seaborn as sn\n",
    "\n",
    "from sklearn import metrics\n",
    "import tensorflow as tf\n",
    "from keras.preprocessing.image import ImageDataGenerator\n",
    "import keras.utils as image"
   ]
  },
  {
   "cell_type": "code",
   "execution_count": 36,
   "metadata": {},
   "outputs": [
    {
     "data": {
      "text/plain": [
       "'2.9.1'"
      ]
     },
     "execution_count": 36,
     "metadata": {},
     "output_type": "execute_result"
    }
   ],
   "source": [
    "tf.__version__"
   ]
  },
  {
   "attachments": {},
   "cell_type": "markdown",
   "metadata": {},
   "source": [
    "#### Data Preprocessing"
   ]
  },
  {
   "attachments": {},
   "cell_type": "markdown",
   "metadata": {},
   "source": [
    "Preprocessing the Training Set"
   ]
  },
  {
   "cell_type": "code",
   "execution_count": 37,
   "metadata": {},
   "outputs": [
    {
     "name": "stdout",
     "output_type": "stream",
     "text": [
      "Found 148 images belonging to 2 classes.\n"
     ]
    }
   ],
   "source": [
    "train_datagen = ImageDataGenerator(rescale = 1./255,\n",
    "                                   shear_range = 0.2,\n",
    "                                   zoom_range = 0.2,\n",
    "                                   horizontal_flip = True)\n",
    "\n",
    "training_set = train_datagen.flow_from_directory('xray_dataset_covid19/train',\n",
    "                                                 target_size = (64, 64),\n",
    "                                                 batch_size = 32,\n",
    "                                                 class_mode = 'binary')"
   ]
  },
  {
   "attachments": {},
   "cell_type": "markdown",
   "metadata": {},
   "source": [
    "Preprocessing the Test Set"
   ]
  },
  {
   "cell_type": "code",
   "execution_count": 38,
   "metadata": {},
   "outputs": [
    {
     "name": "stdout",
     "output_type": "stream",
     "text": [
      "Found 40 images belonging to 2 classes.\n"
     ]
    }
   ],
   "source": [
    "test_datagen = ImageDataGenerator(rescale = 1./255)\n",
    "\n",
    "test_set = test_datagen.flow_from_directory('xray_dataset_covid19/test',\n",
    "                                            target_size = (64, 64),\n",
    "                                            batch_size = 32,\n",
    "                                            class_mode = 'binary')"
   ]
  },
  {
   "attachments": {},
   "cell_type": "markdown",
   "metadata": {},
   "source": [
    "#### Building the CNN"
   ]
  },
  {
   "attachments": {},
   "cell_type": "markdown",
   "metadata": {},
   "source": [
    "Initializing the CNN"
   ]
  },
  {
   "cell_type": "code",
   "execution_count": 39,
   "metadata": {},
   "outputs": [],
   "source": [
    "cnn = tf.keras.models.Sequential()"
   ]
  },
  {
   "attachments": {},
   "cell_type": "markdown",
   "metadata": {},
   "source": [
    "Convolution"
   ]
  },
  {
   "cell_type": "code",
   "execution_count": 40,
   "metadata": {},
   "outputs": [],
   "source": [
    "cnn.add(tf.keras.layers.Conv2D(filters=32, kernel_size=3, activation='relu', input_shape=[64, 64, 3]))"
   ]
  },
  {
   "attachments": {},
   "cell_type": "markdown",
   "metadata": {},
   "source": [
    "Pooling"
   ]
  },
  {
   "cell_type": "code",
   "execution_count": 41,
   "metadata": {},
   "outputs": [],
   "source": [
    "cnn.add(tf.keras.layers.MaxPool2D(pool_size=2, strides=2))"
   ]
  },
  {
   "attachments": {},
   "cell_type": "markdown",
   "metadata": {},
   "source": [
    "Adding A Second Convolution Layer"
   ]
  },
  {
   "cell_type": "code",
   "execution_count": 42,
   "metadata": {},
   "outputs": [],
   "source": [
    "cnn.add(tf.keras.layers.Conv2D(filters=32, kernel_size=3, activation='relu'))\n",
    "cnn.add(tf.keras.layers.MaxPool2D(pool_size=2, strides=2))"
   ]
  },
  {
   "attachments": {},
   "cell_type": "markdown",
   "metadata": {},
   "source": [
    "Flattening"
   ]
  },
  {
   "cell_type": "code",
   "execution_count": 43,
   "metadata": {},
   "outputs": [],
   "source": [
    "cnn.add(tf.keras.layers.Flatten())"
   ]
  },
  {
   "attachments": {},
   "cell_type": "markdown",
   "metadata": {},
   "source": [
    "Full Connection"
   ]
  },
  {
   "cell_type": "code",
   "execution_count": 44,
   "metadata": {},
   "outputs": [],
   "source": [
    "cnn.add(tf.keras.layers.Dense(units=128, activation='relu'))"
   ]
  },
  {
   "attachments": {},
   "cell_type": "markdown",
   "metadata": {},
   "source": [
    "Outer Layer"
   ]
  },
  {
   "cell_type": "code",
   "execution_count": 45,
   "metadata": {},
   "outputs": [],
   "source": [
    "cnn.add(tf.keras.layers.Dense(units=1, activation='sigmoid'))"
   ]
  },
  {
   "attachments": {},
   "cell_type": "markdown",
   "metadata": {},
   "source": [
    "#### Training the CNN"
   ]
  },
  {
   "cell_type": "code",
   "execution_count": 46,
   "metadata": {},
   "outputs": [],
   "source": [
    "cnn.compile(optimizer = 'adam', loss = 'binary_crossentropy', metrics = ['accuracy'])"
   ]
  },
  {
   "attachments": {},
   "cell_type": "markdown",
   "metadata": {},
   "source": [
    "#### Training the CNN on the Training Set and Evaluating it on the Test Set"
   ]
  },
  {
   "cell_type": "code",
   "execution_count": 47,
   "metadata": {},
   "outputs": [
    {
     "name": "stdout",
     "output_type": "stream",
     "text": [
      "Epoch 1/20\n",
      "5/5 [==============================] - 10s 2s/step - loss: 0.7208 - accuracy: 0.5135 - val_loss: 0.6803 - val_accuracy: 0.5000\n",
      "Epoch 2/20\n",
      "5/5 [==============================] - 10s 2s/step - loss: 0.6774 - accuracy: 0.5541 - val_loss: 0.5942 - val_accuracy: 0.9500\n",
      "Epoch 3/20\n",
      "5/5 [==============================] - 8s 2s/step - loss: 0.5926 - accuracy: 0.7973 - val_loss: 0.4546 - val_accuracy: 0.9750\n",
      "Epoch 4/20\n",
      "5/5 [==============================] - 8s 2s/step - loss: 0.4957 - accuracy: 0.8243 - val_loss: 0.2531 - val_accuracy: 0.9750\n",
      "Epoch 5/20\n",
      "5/5 [==============================] - 8s 2s/step - loss: 0.3999 - accuracy: 0.8176 - val_loss: 0.1304 - val_accuracy: 0.9750\n",
      "Epoch 6/20\n",
      "5/5 [==============================] - 8s 2s/step - loss: 0.3268 - accuracy: 0.8446 - val_loss: 0.0926 - val_accuracy: 1.0000\n",
      "Epoch 7/20\n",
      "5/5 [==============================] - 7s 2s/step - loss: 0.2413 - accuracy: 0.9122 - val_loss: 0.1219 - val_accuracy: 0.9500\n",
      "Epoch 8/20\n",
      "5/5 [==============================] - 11s 2s/step - loss: 0.2434 - accuracy: 0.8784 - val_loss: 0.0968 - val_accuracy: 0.9500\n",
      "Epoch 9/20\n",
      "5/5 [==============================] - 8s 2s/step - loss: 0.3205 - accuracy: 0.8919 - val_loss: 0.1441 - val_accuracy: 0.9250\n",
      "Epoch 10/20\n",
      "5/5 [==============================] - 7s 2s/step - loss: 0.2374 - accuracy: 0.8851 - val_loss: 0.1347 - val_accuracy: 0.9500\n",
      "Epoch 11/20\n",
      "5/5 [==============================] - 8s 2s/step - loss: 0.2493 - accuracy: 0.9054 - val_loss: 0.0922 - val_accuracy: 1.0000\n",
      "Epoch 12/20\n",
      "5/5 [==============================] - 9s 2s/step - loss: 0.2363 - accuracy: 0.9257 - val_loss: 0.1064 - val_accuracy: 0.9500\n",
      "Epoch 13/20\n",
      "5/5 [==============================] - 17s 4s/step - loss: 0.1668 - accuracy: 0.9527 - val_loss: 0.1036 - val_accuracy: 0.9750\n",
      "Epoch 14/20\n",
      "5/5 [==============================] - 17s 4s/step - loss: 0.1744 - accuracy: 0.9257 - val_loss: 0.1084 - val_accuracy: 0.9500\n",
      "Epoch 15/20\n",
      "5/5 [==============================] - 16s 3s/step - loss: 0.1421 - accuracy: 0.9392 - val_loss: 0.0979 - val_accuracy: 0.9750\n",
      "Epoch 16/20\n",
      "5/5 [==============================] - 7s 2s/step - loss: 0.1595 - accuracy: 0.9595 - val_loss: 0.0882 - val_accuracy: 0.9750\n",
      "Epoch 17/20\n",
      "5/5 [==============================] - 9s 2s/step - loss: 0.1550 - accuracy: 0.9459 - val_loss: 0.1023 - val_accuracy: 0.9500\n",
      "Epoch 18/20\n",
      "5/5 [==============================] - 10s 2s/step - loss: 0.1528 - accuracy: 0.9527 - val_loss: 0.0783 - val_accuracy: 0.9750\n",
      "Epoch 19/20\n",
      "5/5 [==============================] - 7s 1s/step - loss: 0.1490 - accuracy: 0.9595 - val_loss: 0.1035 - val_accuracy: 0.9500\n",
      "Epoch 20/20\n",
      "5/5 [==============================] - 7s 1s/step - loss: 0.1690 - accuracy: 0.9527 - val_loss: 0.0926 - val_accuracy: 0.9750\n"
     ]
    }
   ],
   "source": [
    "history = cnn.fit(x = training_set, validation_data = test_set, epochs = 20)"
   ]
  },
  {
   "attachments": {},
   "cell_type": "markdown",
   "metadata": {},
   "source": [
    "#### Plotting The Training Loss vs the Validation Loss"
   ]
  },
  {
   "cell_type": "code",
   "execution_count": 60,
   "metadata": {},
   "outputs": [
    {
     "data": {
      "image/png": "[encoded data removed]",
      "text/plain": [
       "<Figure size 640x480 with 1 Axes>"
      ]
     },
     "metadata": {},
     "output_type": "display_data"
    }
   ],
   "source": [
    "loss_train = history.history['loss']\n",
    "loss_val = history.history['val_loss']\n",
    "epochs = range(1,21)\n",
    "plt.plot(epochs, loss_train, 'g', label='Training loss')\n",
    "plt.plot(epochs, loss_val, 'b', label='Validation loss')\n",
    "plt.title('Training and Validation Loss')\n",
    "plt.xlabel('Epochs')\n",
    "plt.ylabel('Loss')\n",
    "plt.legend()\n",
    "plt.show()"
   ]
  },
  {
   "attachments": {},
   "cell_type": "markdown",
   "metadata": {},
   "source": [
    "#### Plotting The Training Accuracy vs the Validation Accuracy"
   ]
  },
  {
   "cell_type": "code",
   "execution_count": 61,
   "metadata": {},
   "outputs": [
    {
     "data": {
      "image/png": "[encoded data removed]",
      "text/plain": [
       "<Figure size 640x480 with 1 Axes>"
      ]
     },
     "metadata": {},
     "output_type": "display_data"
    }
   ],
   "source": [
    "loss_train = history.history['accuracy']\n",
    "loss_val = history.history['val_accuracy']\n",
    "epochs = range(1,21)\n",
    "plt.plot(epochs, loss_train, 'g', label='Training accuracy')\n",
    "plt.plot(epochs, loss_val, 'b', label='Validation accuracy')\n",
    "plt.title('Training and Validation Accuracies')\n",
    "plt.xlabel('Epochs')\n",
    "plt.ylabel('Loss')\n",
    "plt.legend()\n",
    "plt.show()"
   ]
  },
  {
   "attachments": {},
   "cell_type": "markdown",
   "metadata": {},
   "source": [
    "#### Making Predictions"
   ]
  },
  {
   "cell_type": "code",
   "execution_count": 48,
   "metadata": {},
   "outputs": [
    {
     "name": "stdout",
     "output_type": "stream",
     "text": [
      "1/1 [==============================] - 0s 89ms/step\n",
      "1/1 [==============================] - 0s 31ms/step\n",
      "1/1 [==============================] - 0s 20ms/step\n",
      "1/1 [==============================] - 0s 35ms/step\n",
      "1/1 [==============================] - 0s 24ms/step\n",
      "1/1 [==============================] - 0s 35ms/step\n",
      "1/1 [==============================] - 0s 25ms/step\n",
      "1/1 [==============================] - 0s 24ms/step\n",
      "1/1 [==============================] - 0s 29ms/step\n",
      "1/1 [==============================] - 0s 20ms/step\n",
      "1/1 [==============================] - 0s 23ms/step\n",
      "1/1 [==============================] - 0s 33ms/step\n",
      "1/1 [==============================] - 0s 47ms/step\n",
      "1/1 [==============================] - 0s 38ms/step\n",
      "1/1 [==============================] - 0s 34ms/step\n",
      "1/1 [==============================] - 0s 22ms/step\n",
      "1/1 [==============================] - 0s 22ms/step\n",
      "1/1 [==============================] - 0s 25ms/step\n",
      "1/1 [==============================] - 0s 46ms/step\n",
      "1/1 [==============================] - 0s 21ms/step\n",
      "1/1 [==============================] - 0s 16ms/step\n",
      "1/1 [==============================] - 0s 28ms/step\n",
      "1/1 [==============================] - 0s 21ms/step\n",
      "1/1 [==============================] - 0s 42ms/step\n",
      "1/1 [==============================] - 0s 31ms/step\n",
      "1/1 [==============================] - 0s 51ms/step\n",
      "1/1 [==============================] - 0s 41ms/step\n",
      "1/1 [==============================] - 0s 42ms/step\n",
      "1/1 [==============================] - 0s 31ms/step\n",
      "1/1 [==============================] - 0s 40ms/step\n",
      "1/1 [==============================] - 0s 32ms/step\n",
      "1/1 [==============================] - 0s 22ms/step\n",
      "1/1 [==============================] - 0s 28ms/step\n",
      "1/1 [==============================] - 0s 28ms/step\n",
      "1/1 [==============================] - 0s 29ms/step\n",
      "1/1 [==============================] - 0s 41ms/step\n",
      "1/1 [==============================] - 0s 44ms/step\n",
      "1/1 [==============================] - 0s 26ms/step\n",
      "1/1 [==============================] - 0s 33ms/step\n",
      "1/1 [==============================] - 0s 39ms/step\n"
     ]
    },
    {
     "data": {
      "text/html": [
       "<div>\n",
       "<style scoped>\n",
       "    .dataframe tbody tr th:only-of-type {\n",
       "        vertical-align: middle;\n",
       "    }\n",
       "\n",
       "    .dataframe tbody tr th {\n",
       "        vertical-align: top;\n",
       "    }\n",
       "\n",
       "    .dataframe thead th {\n",
       "        text-align: right;\n",
       "    }\n",
       "</style>\n",
       "<table border=\"1\" class=\"dataframe\">\n",
       "  <thead>\n",
       "    <tr style=\"text-align: right;\">\n",
       "      <th></th>\n",
       "      <th>Pneumonia Test Results</th>\n",
       "      <th>Pneumonia Test Results Intrepretation</th>\n",
       "      <th>Normal Test Results</th>\n",
       "      <th>Normal Test Results Intrepretation</th>\n",
       "    </tr>\n",
       "  </thead>\n",
       "  <tbody>\n",
       "    <tr>\n",
       "      <th>0</th>\n",
       "      <td>0.000000e+00</td>\n",
       "      <td>Normal</td>\n",
       "      <td>0.0</td>\n",
       "      <td>Normal</td>\n",
       "    </tr>\n",
       "    <tr>\n",
       "      <th>1</th>\n",
       "      <td>1.000000e+00</td>\n",
       "      <td>Pneumonia</td>\n",
       "      <td>0.0</td>\n",
       "      <td>Normal</td>\n",
       "    </tr>\n",
       "    <tr>\n",
       "      <th>2</th>\n",
       "      <td>1.000000e+00</td>\n",
       "      <td>Pneumonia</td>\n",
       "      <td>0.0</td>\n",
       "      <td>Normal</td>\n",
       "    </tr>\n",
       "    <tr>\n",
       "      <th>3</th>\n",
       "      <td>1.000000e+00</td>\n",
       "      <td>Pneumonia</td>\n",
       "      <td>0.0</td>\n",
       "      <td>Normal</td>\n",
       "    </tr>\n",
       "    <tr>\n",
       "      <th>4</th>\n",
       "      <td>1.000000e+00</td>\n",
       "      <td>Pneumonia</td>\n",
       "      <td>0.0</td>\n",
       "      <td>Normal</td>\n",
       "    </tr>\n",
       "    <tr>\n",
       "      <th>5</th>\n",
       "      <td>1.000000e+00</td>\n",
       "      <td>Pneumonia</td>\n",
       "      <td>0.0</td>\n",
       "      <td>Normal</td>\n",
       "    </tr>\n",
       "    <tr>\n",
       "      <th>6</th>\n",
       "      <td>1.000000e+00</td>\n",
       "      <td>Pneumonia</td>\n",
       "      <td>0.0</td>\n",
       "      <td>Normal</td>\n",
       "    </tr>\n",
       "    <tr>\n",
       "      <th>7</th>\n",
       "      <td>0.000000e+00</td>\n",
       "      <td>Normal</td>\n",
       "      <td>0.0</td>\n",
       "      <td>Normal</td>\n",
       "    </tr>\n",
       "    <tr>\n",
       "      <th>8</th>\n",
       "      <td>2.190432e-09</td>\n",
       "      <td>Normal</td>\n",
       "      <td>0.0</td>\n",
       "      <td>Normal</td>\n",
       "    </tr>\n",
       "    <tr>\n",
       "      <th>9</th>\n",
       "      <td>1.000000e+00</td>\n",
       "      <td>Pneumonia</td>\n",
       "      <td>0.0</td>\n",
       "      <td>Normal</td>\n",
       "    </tr>\n",
       "    <tr>\n",
       "      <th>10</th>\n",
       "      <td>1.000000e+00</td>\n",
       "      <td>Pneumonia</td>\n",
       "      <td>0.0</td>\n",
       "      <td>Normal</td>\n",
       "    </tr>\n",
       "    <tr>\n",
       "      <th>11</th>\n",
       "      <td>1.000000e+00</td>\n",
       "      <td>Pneumonia</td>\n",
       "      <td>0.0</td>\n",
       "      <td>Normal</td>\n",
       "    </tr>\n",
       "    <tr>\n",
       "      <th>12</th>\n",
       "      <td>1.000000e+00</td>\n",
       "      <td>Pneumonia</td>\n",
       "      <td>0.0</td>\n",
       "      <td>Normal</td>\n",
       "    </tr>\n",
       "    <tr>\n",
       "      <th>13</th>\n",
       "      <td>1.000000e+00</td>\n",
       "      <td>Pneumonia</td>\n",
       "      <td>0.0</td>\n",
       "      <td>Normal</td>\n",
       "    </tr>\n",
       "    <tr>\n",
       "      <th>14</th>\n",
       "      <td>1.000000e+00</td>\n",
       "      <td>Pneumonia</td>\n",
       "      <td>0.0</td>\n",
       "      <td>Normal</td>\n",
       "    </tr>\n",
       "    <tr>\n",
       "      <th>15</th>\n",
       "      <td>0.000000e+00</td>\n",
       "      <td>Normal</td>\n",
       "      <td>0.0</td>\n",
       "      <td>Normal</td>\n",
       "    </tr>\n",
       "    <tr>\n",
       "      <th>16</th>\n",
       "      <td>1.000000e+00</td>\n",
       "      <td>Pneumonia</td>\n",
       "      <td>0.0</td>\n",
       "      <td>Normal</td>\n",
       "    </tr>\n",
       "    <tr>\n",
       "      <th>17</th>\n",
       "      <td>1.000000e+00</td>\n",
       "      <td>Pneumonia</td>\n",
       "      <td>0.0</td>\n",
       "      <td>Normal</td>\n",
       "    </tr>\n",
       "    <tr>\n",
       "      <th>18</th>\n",
       "      <td>1.000000e+00</td>\n",
       "      <td>Pneumonia</td>\n",
       "      <td>0.0</td>\n",
       "      <td>Normal</td>\n",
       "    </tr>\n",
       "    <tr>\n",
       "      <th>19</th>\n",
       "      <td>1.000000e+00</td>\n",
       "      <td>Pneumonia</td>\n",
       "      <td>0.0</td>\n",
       "      <td>Normal</td>\n",
       "    </tr>\n",
       "  </tbody>\n",
       "</table>\n",
       "</div>"
      ],
      "text/plain": [
       "    Pneumonia Test Results Pneumonia Test Results Intrepretation  \\\n",
       "0             0.000000e+00                                Normal   \n",
       "1             1.000000e+00                             Pneumonia   \n",
       "2             1.000000e+00                             Pneumonia   \n",
       "3             1.000000e+00                             Pneumonia   \n",
       "4             1.000000e+00                             Pneumonia   \n",
       "5             1.000000e+00                             Pneumonia   \n",
       "6             1.000000e+00                             Pneumonia   \n",
       "7             0.000000e+00                                Normal   \n",
       "8             2.190432e-09                                Normal   \n",
       "9             1.000000e+00                             Pneumonia   \n",
       "10            1.000000e+00                             Pneumonia   \n",
       "11            1.000000e+00                             Pneumonia   \n",
       "12            1.000000e+00                             Pneumonia   \n",
       "13            1.000000e+00                             Pneumonia   \n",
       "14            1.000000e+00                             Pneumonia   \n",
       "15            0.000000e+00                                Normal   \n",
       "16            1.000000e+00                             Pneumonia   \n",
       "17            1.000000e+00                             Pneumonia   \n",
       "18            1.000000e+00                             Pneumonia   \n",
       "19            1.000000e+00                             Pneumonia   \n",
       "\n",
       "    Normal Test Results Normal Test Results Intrepretation  \n",
       "0                   0.0                             Normal  \n",
       "1                   0.0                             Normal  \n",
       "2                   0.0                             Normal  \n",
       "3                   0.0                             Normal  \n",
       "4                   0.0                             Normal  \n",
       "5                   0.0                             Normal  \n",
       "6                   0.0                             Normal  \n",
       "7                   0.0                             Normal  \n",
       "8                   0.0                             Normal  \n",
       "9                   0.0                             Normal  \n",
       "10                  0.0                             Normal  \n",
       "11                  0.0                             Normal  \n",
       "12                  0.0                             Normal  \n",
       "13                  0.0                             Normal  \n",
       "14                  0.0                             Normal  \n",
       "15                  0.0                             Normal  \n",
       "16                  0.0                             Normal  \n",
       "17                  0.0                             Normal  \n",
       "18                  0.0                             Normal  \n",
       "19                  0.0                             Normal  "
      ]
     },
     "execution_count": 48,
     "metadata": {},
     "output_type": "execute_result"
    }
   ],
   "source": [
    "import numpy as np\n",
    "import keras.utils as image\n",
    "import os\n",
    "\n",
    "files_P = os.listdir('xray_dataset_covid19/test/PNEUMONIA/')\n",
    "results_P = []\n",
    "intrepret_P = []\n",
    "\n",
    "for i in range(0, len(files_P)):\n",
    "    path = 'xray_dataset_covid19/test/PNEUMONIA/' + files_P[i]\n",
    "    test_image = image.load_img(path, target_size = (64, 64))\n",
    "    test_image = image.img_to_array(test_image)\n",
    "    test_image = np.expand_dims(test_image, axis = 0)\n",
    "    result_P = cnn.predict(test_image) \n",
    "    training_set.class_indices \n",
    "    results_P.append(result_P[0][0])\n",
    "\n",
    "    if result_P[0][0] == 1:\n",
    "        intrepret_P.append('Pneumonia')\n",
    "    else:\n",
    "        intrepret_P.append('Normal')\n",
    "\n",
    "files_N = os.listdir('xray_dataset_covid19/test/NORMAL/')\n",
    "results_N = []\n",
    "intrepret_N = []\n",
    "\n",
    "for i in range(0, len(files_N)):\n",
    "    path = 'xray_dataset_covid19/test/NORMAL/' + files_N[i]\n",
    "    test_image = image.load_img(path, target_size = (64, 64))\n",
    "    test_image = image.img_to_array(test_image)\n",
    "    test_image = np.expand_dims(test_image, axis = 0)\n",
    "    result_N = cnn.predict(test_image) \n",
    "    training_set.class_indices \n",
    "    results_N.append(result_N[0][0])\n",
    "\n",
    "    if result_N[0][0] == 1:\n",
    "        intrepret_N.append('Pneumonia')\n",
    "    else:\n",
    "        intrepret_N.append('Normal')\n",
    "\n",
    "df_prediction = pd.DataFrame()\n",
    "df_prediction['Pneumonia Test Results'] = results_P\n",
    "df_prediction['Pneumonia Test Results Intrepretation'] = intrepret_P\n",
    "df_prediction['Normal Test Results'] = results_N\n",
    "df_prediction['Normal Test Results Intrepretation'] = intrepret_N\n",
    "\n",
    "df_prediction"
   ]
  },
  {
   "attachments": {},
   "cell_type": "markdown",
   "metadata": {},
   "source": [
    "#### Results Confusion Matrix"
   ]
  },
  {
   "cell_type": "code",
   "execution_count": 87,
   "metadata": {},
   "outputs": [
    {
     "data": {
      "text/plain": [
       "[[16, 4], [0, 20]]"
      ]
     },
     "execution_count": 87,
     "metadata": {},
     "output_type": "execute_result"
    }
   ],
   "source": [
    "TP = 0\n",
    "FP = 0\n",
    "TN = 0\n",
    "FN = 0\n",
    "\n",
    "for i in range(len(df_prediction)):\n",
    "    if df_prediction['Normal Test Results Intrepretation'][i] == 'Normal':\n",
    "        TN += 1\n",
    "    else:\n",
    "        FN += 1\n",
    "        \n",
    "for i in range(len(df_prediction)):\n",
    "    if df_prediction['Pneumonia Test Results Intrepretation'][i] == 'Pneumonia':\n",
    "        TP += 1\n",
    "    else:\n",
    "        FP += 1\n",
    "\n",
    "confusion_matrix = [[TP, FP], [FN, TN]]\n",
    "confusion_matrix"
   ]
  },
  {
   "cell_type": "code",
   "execution_count": 88,
   "metadata": {},
   "outputs": [
    {
     "data": {
      "image/png": "[encoded data removed]",
      "text/plain": [
       "<Figure size 640x480 with 2 Axes>"
      ]
     },
     "metadata": {},
     "output_type": "display_data"
    }
   ],
   "source": [
    "df_cm = pd.DataFrame(confusion_matrix, range(2), range(2))\n",
    "sn.set(font_scale=1.4) # for label size\n",
    "sn.heatmap(df_cm, annot=True, annot_kws={\"size\": 16}) # font size\n",
    "\n",
    "plt.title('Confusion Matrix')\n",
    "plt.show()"
   ]
  },
  {
   "cell_type": "code",
   "execution_count": null,
   "metadata": {},
   "outputs": [],
   "source": []
  }
 ],
 "metadata": {
  "kernelspec": {
   "display_name": "ANN",
   "language": "python",
   "name": "python3"
  },
  "language_info": {
   "codemirror_mode": {
    "name": "ipython",
    "version": 3
   },
   "file_extension": ".py",
   "mimetype": "text/x-python",
   "name": "python",
   "nbconvert_exporter": "python",
   "pygments_lexer": "ipython3",
   "version": "3.10.4"
  },
  "orig_nbformat": 4
 },
 "nbformat": 4,
 "nbformat_minor": 2
}
