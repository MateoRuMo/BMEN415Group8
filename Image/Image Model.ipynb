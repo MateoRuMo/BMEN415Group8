{
 "cells": [
  {
   "attachments": {},
   "cell_type": "markdown",
   "metadata": {},
   "source": [
    "# **BMEN 415 - Final Project**\n",
    "**Challenge Model: Convolutional Neural Network**\n",
    "\n",
    "Nitya Shah"
   ]
  },
  {
   "attachments": {},
   "cell_type": "markdown",
   "metadata": {},
   "source": [
    "#### Importing the Libraries"
   ]
  },
  {
   "cell_type": "code",
   "execution_count": 101,
   "metadata": {},
   "outputs": [],
   "source": [
    "import pandas as pd\n",
    "import numpy as np\n",
    "import os\n",
    "\n",
    "import tensorflow as tf\n",
    "from keras.preprocessing.image import ImageDataGenerator\n",
    "import keras.utils as image"
   ]
  },
  {
   "cell_type": "code",
   "execution_count": 102,
   "metadata": {},
   "outputs": [
    {
     "data": {
      "text/plain": [
       "'2.9.1'"
      ]
     },
     "execution_count": 102,
     "metadata": {},
     "output_type": "execute_result"
    }
   ],
   "source": [
    "tf.__version__"
   ]
  },
  {
   "attachments": {},
   "cell_type": "markdown",
   "metadata": {},
   "source": [
    "#### Data Preprocessing"
   ]
  },
  {
   "attachments": {},
   "cell_type": "markdown",
   "metadata": {},
   "source": [
    "Preprocessing the Training Set"
   ]
  },
  {
   "cell_type": "code",
   "execution_count": 103,
   "metadata": {},
   "outputs": [
    {
     "name": "stdout",
     "output_type": "stream",
     "text": [
      "Found 148 images belonging to 2 classes.\n"
     ]
    }
   ],
   "source": [
    "train_datagen = ImageDataGenerator(rescale = 1./255,\n",
    "                                   shear_range = 0.2,\n",
    "                                   zoom_range = 0.2,\n",
    "                                   horizontal_flip = True)\n",
    "\n",
    "training_set = train_datagen.flow_from_directory('xray_dataset_covid19/train',\n",
    "                                                 target_size = (64, 64),\n",
    "                                                 batch_size = 32,\n",
    "                                                 class_mode = 'binary')"
   ]
  },
  {
   "attachments": {},
   "cell_type": "markdown",
   "metadata": {},
   "source": [
    "Preprocessing the Test Set"
   ]
  },
  {
   "cell_type": "code",
   "execution_count": 104,
   "metadata": {},
   "outputs": [
    {
     "name": "stdout",
     "output_type": "stream",
     "text": [
      "Found 40 images belonging to 2 classes.\n"
     ]
    }
   ],
   "source": [
    "test_datagen = ImageDataGenerator(rescale = 1./255)\n",
    "\n",
    "test_set = test_datagen.flow_from_directory('xray_dataset_covid19/test',\n",
    "                                            target_size = (64, 64),\n",
    "                                            batch_size = 32,\n",
    "                                            class_mode = 'binary')"
   ]
  },
  {
   "attachments": {},
   "cell_type": "markdown",
   "metadata": {},
   "source": [
    "#### Building the CNN"
   ]
  },
  {
   "attachments": {},
   "cell_type": "markdown",
   "metadata": {},
   "source": [
    "Initializing the CNN"
   ]
  },
  {
   "cell_type": "code",
   "execution_count": 105,
   "metadata": {},
   "outputs": [],
   "source": [
    "cnn = tf.keras.models.Sequential()"
   ]
  },
  {
   "attachments": {},
   "cell_type": "markdown",
   "metadata": {},
   "source": [
    "Convolution"
   ]
  },
  {
   "cell_type": "code",
   "execution_count": 106,
   "metadata": {},
   "outputs": [],
   "source": [
    "cnn.add(tf.keras.layers.Conv2D(filters=32, kernel_size=3, activation='relu', input_shape=[64, 64, 3]))"
   ]
  },
  {
   "attachments": {},
   "cell_type": "markdown",
   "metadata": {},
   "source": [
    "Pooling"
   ]
  },
  {
   "cell_type": "code",
   "execution_count": 107,
   "metadata": {},
   "outputs": [],
   "source": [
    "cnn.add(tf.keras.layers.MaxPool2D(pool_size=2, strides=2))"
   ]
  },
  {
   "attachments": {},
   "cell_type": "markdown",
   "metadata": {},
   "source": [
    "Adding A Second Convolution Layer"
   ]
  },
  {
   "cell_type": "code",
   "execution_count": 108,
   "metadata": {},
   "outputs": [],
   "source": [
    "cnn.add(tf.keras.layers.Conv2D(filters=32, kernel_size=3, activation='relu'))\n",
    "cnn.add(tf.keras.layers.MaxPool2D(pool_size=2, strides=2))"
   ]
  },
  {
   "attachments": {},
   "cell_type": "markdown",
   "metadata": {},
   "source": [
    "Flattening"
   ]
  },
  {
   "cell_type": "code",
   "execution_count": 109,
   "metadata": {},
   "outputs": [],
   "source": [
    "cnn.add(tf.keras.layers.Flatten())"
   ]
  },
  {
   "attachments": {},
   "cell_type": "markdown",
   "metadata": {},
   "source": [
    "Full Connection"
   ]
  },
  {
   "cell_type": "code",
   "execution_count": 110,
   "metadata": {},
   "outputs": [],
   "source": [
    "cnn.add(tf.keras.layers.Dense(units=128, activation='relu'))"
   ]
  },
  {
   "attachments": {},
   "cell_type": "markdown",
   "metadata": {},
   "source": [
    "Outer Layer"
   ]
  },
  {
   "cell_type": "code",
   "execution_count": 111,
   "metadata": {},
   "outputs": [],
   "source": [
    "cnn.add(tf.keras.layers.Dense(units=1, activation='sigmoid'))"
   ]
  },
  {
   "attachments": {},
   "cell_type": "markdown",
   "metadata": {},
   "source": [
    "#### Training the CNN"
   ]
  },
  {
   "cell_type": "code",
   "execution_count": 112,
   "metadata": {},
   "outputs": [],
   "source": [
    "cnn.compile(optimizer = 'adam', loss = 'binary_crossentropy', metrics = ['accuracy'])"
   ]
  },
  {
   "attachments": {},
   "cell_type": "markdown",
   "metadata": {},
   "source": [
    "#### Training the CNN on the Training Set and Evaluating it on the Test Set"
   ]
  },
  {
   "cell_type": "code",
   "execution_count": 113,
   "metadata": {},
   "outputs": [
    {
     "name": "stdout",
     "output_type": "stream",
     "text": [
      "Epoch 1/20\n",
      "5/5 [==============================] - 8s 2s/step - loss: 0.7927 - accuracy: 0.5135 - val_loss: 0.7004 - val_accuracy: 0.5000\n",
      "Epoch 2/20\n",
      "5/5 [==============================] - 5s 1s/step - loss: 0.6519 - accuracy: 0.6216 - val_loss: 0.6851 - val_accuracy: 0.5000\n",
      "Epoch 3/20\n",
      "5/5 [==============================] - 5s 1s/step - loss: 0.6593 - accuracy: 0.5608 - val_loss: 0.5600 - val_accuracy: 0.9750\n",
      "Epoch 4/20\n",
      "5/5 [==============================] - 5s 1s/step - loss: 0.5810 - accuracy: 0.7838 - val_loss: 0.4266 - val_accuracy: 0.9750\n",
      "Epoch 5/20\n",
      "5/5 [==============================] - 5s 1s/step - loss: 0.5284 - accuracy: 0.7770 - val_loss: 0.3052 - val_accuracy: 0.9750\n",
      "Epoch 6/20\n",
      "5/5 [==============================] - 5s 1s/step - loss: 0.4564 - accuracy: 0.8649 - val_loss: 0.2570 - val_accuracy: 0.9500\n",
      "Epoch 7/20\n",
      "5/5 [==============================] - 5s 1s/step - loss: 0.3960 - accuracy: 0.8446 - val_loss: 0.2029 - val_accuracy: 0.9500\n",
      "Epoch 8/20\n",
      "5/5 [==============================] - 5s 1s/step - loss: 0.3979 - accuracy: 0.7973 - val_loss: 0.1560 - val_accuracy: 0.9750\n",
      "Epoch 9/20\n",
      "5/5 [==============================] - 5s 1s/step - loss: 0.3257 - accuracy: 0.8919 - val_loss: 0.1691 - val_accuracy: 0.9250\n",
      "Epoch 10/20\n",
      "5/5 [==============================] - 8s 2s/step - loss: 0.3346 - accuracy: 0.8784 - val_loss: 0.1334 - val_accuracy: 0.9500\n",
      "Epoch 11/20\n",
      "5/5 [==============================] - 7s 1s/step - loss: 0.1987 - accuracy: 0.9189 - val_loss: 0.1201 - val_accuracy: 0.9750\n",
      "Epoch 12/20\n",
      "5/5 [==============================] - 6s 1s/step - loss: 0.2740 - accuracy: 0.8716 - val_loss: 0.1165 - val_accuracy: 0.9500\n",
      "Epoch 13/20\n",
      "5/5 [==============================] - 5s 1s/step - loss: 0.1943 - accuracy: 0.9189 - val_loss: 0.1546 - val_accuracy: 0.9500\n",
      "Epoch 14/20\n",
      "5/5 [==============================] - 5s 1s/step - loss: 0.2295 - accuracy: 0.9257 - val_loss: 0.1663 - val_accuracy: 0.9250\n",
      "Epoch 15/20\n",
      "5/5 [==============================] - 5s 1s/step - loss: 0.1625 - accuracy: 0.9527 - val_loss: 0.1185 - val_accuracy: 0.9500\n",
      "Epoch 16/20\n",
      "5/5 [==============================] - 5s 1s/step - loss: 0.2217 - accuracy: 0.9459 - val_loss: 0.0988 - val_accuracy: 0.9500\n",
      "Epoch 17/20\n",
      "5/5 [==============================] - 6s 1s/step - loss: 0.2026 - accuracy: 0.9122 - val_loss: 0.1044 - val_accuracy: 0.9500\n",
      "Epoch 18/20\n",
      "5/5 [==============================] - 5s 1s/step - loss: 0.1768 - accuracy: 0.9189 - val_loss: 0.1085 - val_accuracy: 0.9500\n",
      "Epoch 19/20\n",
      "5/5 [==============================] - 6s 1s/step - loss: 0.1838 - accuracy: 0.9459 - val_loss: 0.0874 - val_accuracy: 0.9750\n",
      "Epoch 20/20\n",
      "5/5 [==============================] - 5s 1s/step - loss: 0.1677 - accuracy: 0.9392 - val_loss: 0.1123 - val_accuracy: 0.9500\n"
     ]
    },
    {
     "data": {
      "text/plain": [
       "<keras.callbacks.History at 0x2051d3803d0>"
      ]
     },
     "execution_count": 113,
     "metadata": {},
     "output_type": "execute_result"
    }
   ],
   "source": [
    "cnn.fit(x = training_set, validation_data = test_set, epochs = 20)"
   ]
  },
  {
   "attachments": {},
   "cell_type": "markdown",
   "metadata": {},
   "source": [
    "#### Making Predictions"
   ]
  },
  {
   "cell_type": "code",
   "execution_count": 114,
   "metadata": {},
   "outputs": [
    {
     "name": "stdout",
     "output_type": "stream",
     "text": [
      "1/1 [==============================] - 0s 72ms/step\n",
      "1/1 [==============================] - 0s 22ms/step\n",
      "1/1 [==============================] - 0s 19ms/step\n",
      "1/1 [==============================] - 0s 20ms/step\n",
      "1/1 [==============================] - 0s 23ms/step\n",
      "1/1 [==============================] - 0s 25ms/step\n",
      "1/1 [==============================] - 0s 23ms/step\n",
      "1/1 [==============================] - 0s 24ms/step\n",
      "1/1 [==============================] - 0s 24ms/step\n",
      "1/1 [==============================] - 0s 22ms/step\n",
      "1/1 [==============================] - 0s 25ms/step\n",
      "1/1 [==============================] - 0s 28ms/step\n",
      "1/1 [==============================] - 0s 23ms/step\n",
      "1/1 [==============================] - 0s 21ms/step\n",
      "1/1 [==============================] - 0s 25ms/step\n",
      "1/1 [==============================] - 0s 24ms/step\n",
      "1/1 [==============================] - 0s 24ms/step\n",
      "1/1 [==============================] - 0s 24ms/step\n",
      "1/1 [==============================] - 0s 22ms/step\n",
      "1/1 [==============================] - 0s 30ms/step\n",
      "1/1 [==============================] - 0s 27ms/step\n",
      "1/1 [==============================] - 0s 26ms/step\n",
      "1/1 [==============================] - 0s 26ms/step\n",
      "1/1 [==============================] - 0s 23ms/step\n",
      "1/1 [==============================] - 0s 24ms/step\n",
      "1/1 [==============================] - 0s 21ms/step\n",
      "1/1 [==============================] - 0s 22ms/step\n",
      "1/1 [==============================] - 0s 25ms/step\n",
      "1/1 [==============================] - 0s 23ms/step\n",
      "1/1 [==============================] - 0s 22ms/step\n",
      "1/1 [==============================] - 0s 21ms/step\n",
      "1/1 [==============================] - 0s 20ms/step\n",
      "1/1 [==============================] - 0s 19ms/step\n",
      "1/1 [==============================] - 0s 21ms/step\n",
      "1/1 [==============================] - 0s 25ms/step\n",
      "1/1 [==============================] - 0s 20ms/step\n",
      "1/1 [==============================] - 0s 22ms/step\n",
      "1/1 [==============================] - 0s 24ms/step\n",
      "1/1 [==============================] - 0s 23ms/step\n",
      "1/1 [==============================] - 0s 22ms/step\n"
     ]
    },
    {
     "data": {
      "text/html": [
       "<div>\n",
       "<style scoped>\n",
       "    .dataframe tbody tr th:only-of-type {\n",
       "        vertical-align: middle;\n",
       "    }\n",
       "\n",
       "    .dataframe tbody tr th {\n",
       "        vertical-align: top;\n",
       "    }\n",
       "\n",
       "    .dataframe thead th {\n",
       "        text-align: right;\n",
       "    }\n",
       "</style>\n",
       "<table border=\"1\" class=\"dataframe\">\n",
       "  <thead>\n",
       "    <tr style=\"text-align: right;\">\n",
       "      <th></th>\n",
       "      <th>Pneumonia Test Results</th>\n",
       "      <th>Pneumonia Test Results Intrepretation</th>\n",
       "      <th>Normal Test Results</th>\n",
       "      <th>Normal Test Results Intrepretation</th>\n",
       "    </tr>\n",
       "  </thead>\n",
       "  <tbody>\n",
       "    <tr>\n",
       "      <th>0</th>\n",
       "      <td>0.000000e+00</td>\n",
       "      <td>Normal</td>\n",
       "      <td>0.0</td>\n",
       "      <td>Normal</td>\n",
       "    </tr>\n",
       "    <tr>\n",
       "      <th>1</th>\n",
       "      <td>1.000000e+00</td>\n",
       "      <td>Pneumonia</td>\n",
       "      <td>0.0</td>\n",
       "      <td>Normal</td>\n",
       "    </tr>\n",
       "    <tr>\n",
       "      <th>2</th>\n",
       "      <td>1.000000e+00</td>\n",
       "      <td>Pneumonia</td>\n",
       "      <td>0.0</td>\n",
       "      <td>Normal</td>\n",
       "    </tr>\n",
       "    <tr>\n",
       "      <th>3</th>\n",
       "      <td>1.000000e+00</td>\n",
       "      <td>Pneumonia</td>\n",
       "      <td>0.0</td>\n",
       "      <td>Normal</td>\n",
       "    </tr>\n",
       "    <tr>\n",
       "      <th>4</th>\n",
       "      <td>1.000000e+00</td>\n",
       "      <td>Pneumonia</td>\n",
       "      <td>0.0</td>\n",
       "      <td>Normal</td>\n",
       "    </tr>\n",
       "    <tr>\n",
       "      <th>5</th>\n",
       "      <td>1.000000e+00</td>\n",
       "      <td>Pneumonia</td>\n",
       "      <td>0.0</td>\n",
       "      <td>Normal</td>\n",
       "    </tr>\n",
       "    <tr>\n",
       "      <th>6</th>\n",
       "      <td>1.000000e+00</td>\n",
       "      <td>Pneumonia</td>\n",
       "      <td>0.0</td>\n",
       "      <td>Normal</td>\n",
       "    </tr>\n",
       "    <tr>\n",
       "      <th>7</th>\n",
       "      <td>0.000000e+00</td>\n",
       "      <td>Normal</td>\n",
       "      <td>0.0</td>\n",
       "      <td>Normal</td>\n",
       "    </tr>\n",
       "    <tr>\n",
       "      <th>8</th>\n",
       "      <td>1.492356e-08</td>\n",
       "      <td>Normal</td>\n",
       "      <td>0.0</td>\n",
       "      <td>Normal</td>\n",
       "    </tr>\n",
       "    <tr>\n",
       "      <th>9</th>\n",
       "      <td>1.000000e+00</td>\n",
       "      <td>Pneumonia</td>\n",
       "      <td>0.0</td>\n",
       "      <td>Normal</td>\n",
       "    </tr>\n",
       "    <tr>\n",
       "      <th>10</th>\n",
       "      <td>1.000000e+00</td>\n",
       "      <td>Pneumonia</td>\n",
       "      <td>0.0</td>\n",
       "      <td>Normal</td>\n",
       "    </tr>\n",
       "    <tr>\n",
       "      <th>11</th>\n",
       "      <td>1.000000e+00</td>\n",
       "      <td>Pneumonia</td>\n",
       "      <td>0.0</td>\n",
       "      <td>Normal</td>\n",
       "    </tr>\n",
       "    <tr>\n",
       "      <th>12</th>\n",
       "      <td>1.000000e+00</td>\n",
       "      <td>Pneumonia</td>\n",
       "      <td>0.0</td>\n",
       "      <td>Normal</td>\n",
       "    </tr>\n",
       "    <tr>\n",
       "      <th>13</th>\n",
       "      <td>1.000000e+00</td>\n",
       "      <td>Pneumonia</td>\n",
       "      <td>0.0</td>\n",
       "      <td>Normal</td>\n",
       "    </tr>\n",
       "    <tr>\n",
       "      <th>14</th>\n",
       "      <td>1.000000e+00</td>\n",
       "      <td>Pneumonia</td>\n",
       "      <td>0.0</td>\n",
       "      <td>Normal</td>\n",
       "    </tr>\n",
       "    <tr>\n",
       "      <th>15</th>\n",
       "      <td>0.000000e+00</td>\n",
       "      <td>Normal</td>\n",
       "      <td>0.0</td>\n",
       "      <td>Normal</td>\n",
       "    </tr>\n",
       "    <tr>\n",
       "      <th>16</th>\n",
       "      <td>1.000000e+00</td>\n",
       "      <td>Pneumonia</td>\n",
       "      <td>0.0</td>\n",
       "      <td>Normal</td>\n",
       "    </tr>\n",
       "    <tr>\n",
       "      <th>17</th>\n",
       "      <td>1.000000e+00</td>\n",
       "      <td>Pneumonia</td>\n",
       "      <td>0.0</td>\n",
       "      <td>Normal</td>\n",
       "    </tr>\n",
       "    <tr>\n",
       "      <th>18</th>\n",
       "      <td>1.000000e+00</td>\n",
       "      <td>Pneumonia</td>\n",
       "      <td>0.0</td>\n",
       "      <td>Normal</td>\n",
       "    </tr>\n",
       "    <tr>\n",
       "      <th>19</th>\n",
       "      <td>1.000000e+00</td>\n",
       "      <td>Pneumonia</td>\n",
       "      <td>0.0</td>\n",
       "      <td>Normal</td>\n",
       "    </tr>\n",
       "  </tbody>\n",
       "</table>\n",
       "</div>"
      ],
      "text/plain": [
       "    Pneumonia Test Results Pneumonia Test Results Intrepretation  \\\n",
       "0             0.000000e+00                                Normal   \n",
       "1             1.000000e+00                             Pneumonia   \n",
       "2             1.000000e+00                             Pneumonia   \n",
       "3             1.000000e+00                             Pneumonia   \n",
       "4             1.000000e+00                             Pneumonia   \n",
       "5             1.000000e+00                             Pneumonia   \n",
       "6             1.000000e+00                             Pneumonia   \n",
       "7             0.000000e+00                                Normal   \n",
       "8             1.492356e-08                                Normal   \n",
       "9             1.000000e+00                             Pneumonia   \n",
       "10            1.000000e+00                             Pneumonia   \n",
       "11            1.000000e+00                             Pneumonia   \n",
       "12            1.000000e+00                             Pneumonia   \n",
       "13            1.000000e+00                             Pneumonia   \n",
       "14            1.000000e+00                             Pneumonia   \n",
       "15            0.000000e+00                                Normal   \n",
       "16            1.000000e+00                             Pneumonia   \n",
       "17            1.000000e+00                             Pneumonia   \n",
       "18            1.000000e+00                             Pneumonia   \n",
       "19            1.000000e+00                             Pneumonia   \n",
       "\n",
       "    Normal Test Results Normal Test Results Intrepretation  \n",
       "0                   0.0                             Normal  \n",
       "1                   0.0                             Normal  \n",
       "2                   0.0                             Normal  \n",
       "3                   0.0                             Normal  \n",
       "4                   0.0                             Normal  \n",
       "5                   0.0                             Normal  \n",
       "6                   0.0                             Normal  \n",
       "7                   0.0                             Normal  \n",
       "8                   0.0                             Normal  \n",
       "9                   0.0                             Normal  \n",
       "10                  0.0                             Normal  \n",
       "11                  0.0                             Normal  \n",
       "12                  0.0                             Normal  \n",
       "13                  0.0                             Normal  \n",
       "14                  0.0                             Normal  \n",
       "15                  0.0                             Normal  \n",
       "16                  0.0                             Normal  \n",
       "17                  0.0                             Normal  \n",
       "18                  0.0                             Normal  \n",
       "19                  0.0                             Normal  "
      ]
     },
     "execution_count": 114,
     "metadata": {},
     "output_type": "execute_result"
    }
   ],
   "source": [
    "import numpy as np\n",
    "import keras.utils as image\n",
    "import os\n",
    "\n",
    "files_P = os.listdir('xray_dataset_covid19/test/PNEUMONIA/')\n",
    "results_P = []\n",
    "intrepret_P = []\n",
    "\n",
    "for i in range(0, len(files_P)):\n",
    "    path = 'xray_dataset_covid19/test/PNEUMONIA/' + files_P[i]\n",
    "    test_image = image.load_img(path, target_size = (64, 64))\n",
    "    test_image = image.img_to_array(test_image)\n",
    "    test_image = np.expand_dims(test_image, axis = 0)\n",
    "    result_P = cnn.predict(test_image) \n",
    "    training_set.class_indices \n",
    "    results_P.append(result_P[0][0])\n",
    "\n",
    "    if result_P[0][0] == 1:\n",
    "        intrepret_P.append('Pneumonia')\n",
    "    else:\n",
    "        intrepret_P.append('Normal')\n",
    "\n",
    "files_N = os.listdir('xray_dataset_covid19/test/NORMAL/')\n",
    "results_N = []\n",
    "intrepret_N = []\n",
    "\n",
    "for i in range(0, len(files_N)):\n",
    "    path = 'xray_dataset_covid19/test/NORMAL/' + files_N[i]\n",
    "    test_image = image.load_img(path, target_size = (64, 64))\n",
    "    test_image = image.img_to_array(test_image)\n",
    "    test_image = np.expand_dims(test_image, axis = 0)\n",
    "    result_N = cnn.predict(test_image) \n",
    "    training_set.class_indices \n",
    "    results_N.append(result_N[0][0])\n",
    "\n",
    "    if result_N[0][0] == 1:\n",
    "        intrepret_N.append('Pneumonia')\n",
    "    else:\n",
    "        intrepret_N.append('Normal')\n",
    "\n",
    "df_prediction = pd.DataFrame()\n",
    "df_prediction['Pneumonia Test Results'] = results_P\n",
    "df_prediction['Pneumonia Test Results Intrepretation'] = intrepret_P\n",
    "df_prediction['Normal Test Results'] = results_N\n",
    "df_prediction['Normal Test Results Intrepretation'] = intrepret_N\n",
    "\n",
    "df_prediction"
   ]
  }
 ],
 "metadata": {
  "kernelspec": {
   "display_name": "ANN",
   "language": "python",
   "name": "python3"
  },
  "language_info": {
   "codemirror_mode": {
    "name": "ipython",
    "version": 3
   },
   "file_extension": ".py",
   "mimetype": "text/x-python",
   "name": "python",
   "nbconvert_exporter": "python",
   "pygments_lexer": "ipython3",
   "version": "3.10.4"
  },
  "orig_nbformat": 4
 },
 "nbformat": 4,
 "nbformat_minor": 2
}
